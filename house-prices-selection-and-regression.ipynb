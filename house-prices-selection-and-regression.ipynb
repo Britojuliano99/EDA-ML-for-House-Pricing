{
 "cells": [
  {
   "cell_type": "markdown",
   "id": "5f417ae1",
   "metadata": {
    "papermill": {
     "duration": 0.081882,
     "end_time": "2022-02-05T20:37:45.842802",
     "exception": false,
     "start_time": "2022-02-05T20:37:45.760920",
     "status": "completed"
    },
    "tags": []
   },
   "source": []
  },
  {
   "cell_type": "markdown",
   "id": "126eb985",
   "metadata": {
    "papermill": {
     "duration": 0.079927,
     "end_time": "2022-02-05T20:37:46.007008",
     "exception": false,
     "start_time": "2022-02-05T20:37:45.927081",
     "status": "completed"
    },
    "tags": []
   },
   "source": [
    "# Introduction"
   ]
  },
  {
   "cell_type": "markdown",
   "id": "3d89e8b5",
   "metadata": {
    "papermill": {
     "duration": 0.080022,
     "end_time": "2022-02-05T20:37:46.167494",
     "exception": false,
     "start_time": "2022-02-05T20:37:46.087472",
     "status": "completed"
    },
    "tags": []
   },
   "source": [
    "This dataset contains house sale prices for King County, which includes Seattle. It includes homes sold between May 2014 and May 2015.\n",
    "The dataset contains following columns:\n",
    "* id\n",
    "* date\n",
    "* price\n",
    "* bedrooms \n",
    "* bathrooms\n",
    "* sqft_living\n",
    "* sqft_lot\n",
    "* floors\n",
    "* waterfront\n",
    "* view\n",
    "* condition\n",
    "* grade\n",
    "* sqft_above\n",
    "* sqft_basement\n",
    "* yr_built\n",
    "* yr_renovated\n",
    "* zipcode\n",
    "* lat\n",
    "* long\n",
    "* sqft_living15\n",
    "* sqft_lot15"
   ]
  },
  {
   "cell_type": "markdown",
   "id": "826c1f76",
   "metadata": {
    "papermill": {
     "duration": 0.079111,
     "end_time": "2022-02-05T20:37:46.326209",
     "exception": false,
     "start_time": "2022-02-05T20:37:46.247098",
     "status": "completed"
    },
    "tags": []
   },
   "source": [
    "In this kernel,\n",
    "##### * We will do EDA of prices with respect to different features and visualize their relationship.\n",
    "##### * Run feature selection algorithms to eliminate least important and unwanted features.\n",
    "##### * And, finally build models on the selected features.\n"
   ]
  },
  {
   "cell_type": "code",
   "execution_count": 1,
   "id": "a366f589",
   "metadata": {
    "execution": {
     "iopub.execute_input": "2022-02-05T20:37:46.494025Z",
     "iopub.status.busy": "2022-02-05T20:37:46.493390Z",
     "iopub.status.idle": "2022-02-05T20:37:47.701863Z",
     "shell.execute_reply": "2022-02-05T20:37:47.701147Z",
     "shell.execute_reply.started": "2022-02-01T18:32:17.809932Z"
    },
    "papermill": {
     "duration": 1.296649,
     "end_time": "2022-02-05T20:37:47.702070",
     "exception": false,
     "start_time": "2022-02-05T20:37:46.405421",
     "status": "completed"
    },
    "tags": []
   },
   "outputs": [],
   "source": [
    "#importing libraries\n",
    "import numpy as np\n",
    "import pandas as pd\n",
    "import matplotlib.pyplot as plt\n",
    "import seaborn as sns\n",
    "from sklearn.pipeline import Pipeline\n",
    "from sklearn.preprocessing import StandardScaler,PolynomialFeatures\n",
    "from sklearn.linear_model import LinearRegression\n",
    "%matplotlib inline"
   ]
  },
  {
   "cell_type": "code",
   "execution_count": 2,
   "id": "5850b58c",
   "metadata": {
    "execution": {
     "iopub.execute_input": "2022-02-05T20:37:47.867898Z",
     "iopub.status.busy": "2022-02-05T20:37:47.867272Z",
     "iopub.status.idle": "2022-02-05T20:37:47.977800Z",
     "shell.execute_reply": "2022-02-05T20:37:47.978315Z",
     "shell.execute_reply.started": "2022-02-01T18:30:57.068146Z"
    },
    "papermill": {
     "duration": 0.194658,
     "end_time": "2022-02-05T20:37:47.978512",
     "exception": false,
     "start_time": "2022-02-05T20:37:47.783854",
     "status": "completed"
    },
    "tags": []
   },
   "outputs": [],
   "source": [
    "df = pd.read_csv('../input/housesalesprediction/kc_house_data.csv')"
   ]
  },
  {
   "cell_type": "code",
   "execution_count": null,
   "id": "eb389e9c",
   "metadata": {
    "papermill": {
     "duration": 0.079142,
     "end_time": "2022-02-05T20:37:48.138349",
     "exception": false,
     "start_time": "2022-02-05T20:37:48.059207",
     "status": "completed"
    },
    "tags": []
   },
   "outputs": [],
   "source": []
  },
  {
   "cell_type": "code",
   "execution_count": 3,
   "id": "4d7cec61",
   "metadata": {
    "execution": {
     "iopub.execute_input": "2022-02-05T20:37:48.302089Z",
     "iopub.status.busy": "2022-02-05T20:37:48.301068Z",
     "iopub.status.idle": "2022-02-05T20:37:48.333666Z",
     "shell.execute_reply": "2022-02-05T20:37:48.334174Z",
     "shell.execute_reply.started": "2022-02-01T18:30:57.14765Z"
    },
    "papermill": {
     "duration": 0.116661,
     "end_time": "2022-02-05T20:37:48.334341",
     "exception": false,
     "start_time": "2022-02-05T20:37:48.217680",
     "status": "completed"
    },
    "tags": []
   },
   "outputs": [
    {
     "data": {
      "text/html": [
       "<div>\n",
       "<style scoped>\n",
       "    .dataframe tbody tr th:only-of-type {\n",
       "        vertical-align: middle;\n",
       "    }\n",
       "\n",
       "    .dataframe tbody tr th {\n",
       "        vertical-align: top;\n",
       "    }\n",
       "\n",
       "    .dataframe thead th {\n",
       "        text-align: right;\n",
       "    }\n",
       "</style>\n",
       "<table border=\"1\" class=\"dataframe\">\n",
       "  <thead>\n",
       "    <tr style=\"text-align: right;\">\n",
       "      <th></th>\n",
       "      <th>id</th>\n",
       "      <th>date</th>\n",
       "      <th>price</th>\n",
       "      <th>bedrooms</th>\n",
       "      <th>bathrooms</th>\n",
       "      <th>sqft_living</th>\n",
       "      <th>sqft_lot</th>\n",
       "      <th>floors</th>\n",
       "      <th>waterfront</th>\n",
       "      <th>view</th>\n",
       "      <th>condition</th>\n",
       "      <th>grade</th>\n",
       "      <th>sqft_above</th>\n",
       "      <th>sqft_basement</th>\n",
       "      <th>yr_built</th>\n",
       "      <th>yr_renovated</th>\n",
       "      <th>zipcode</th>\n",
       "      <th>lat</th>\n",
       "      <th>long</th>\n",
       "      <th>sqft_living15</th>\n",
       "      <th>sqft_lot15</th>\n",
       "    </tr>\n",
       "  </thead>\n",
       "  <tbody>\n",
       "    <tr>\n",
       "      <th>0</th>\n",
       "      <td>7129300520</td>\n",
       "      <td>20141013T000000</td>\n",
       "      <td>221900.0</td>\n",
       "      <td>3</td>\n",
       "      <td>1.00</td>\n",
       "      <td>1180</td>\n",
       "      <td>5650</td>\n",
       "      <td>1.0</td>\n",
       "      <td>0</td>\n",
       "      <td>0</td>\n",
       "      <td>3</td>\n",
       "      <td>7</td>\n",
       "      <td>1180</td>\n",
       "      <td>0</td>\n",
       "      <td>1955</td>\n",
       "      <td>0</td>\n",
       "      <td>98178</td>\n",
       "      <td>47.5112</td>\n",
       "      <td>-122.257</td>\n",
       "      <td>1340</td>\n",
       "      <td>5650</td>\n",
       "    </tr>\n",
       "    <tr>\n",
       "      <th>1</th>\n",
       "      <td>6414100192</td>\n",
       "      <td>20141209T000000</td>\n",
       "      <td>538000.0</td>\n",
       "      <td>3</td>\n",
       "      <td>2.25</td>\n",
       "      <td>2570</td>\n",
       "      <td>7242</td>\n",
       "      <td>2.0</td>\n",
       "      <td>0</td>\n",
       "      <td>0</td>\n",
       "      <td>3</td>\n",
       "      <td>7</td>\n",
       "      <td>2170</td>\n",
       "      <td>400</td>\n",
       "      <td>1951</td>\n",
       "      <td>1991</td>\n",
       "      <td>98125</td>\n",
       "      <td>47.7210</td>\n",
       "      <td>-122.319</td>\n",
       "      <td>1690</td>\n",
       "      <td>7639</td>\n",
       "    </tr>\n",
       "    <tr>\n",
       "      <th>2</th>\n",
       "      <td>5631500400</td>\n",
       "      <td>20150225T000000</td>\n",
       "      <td>180000.0</td>\n",
       "      <td>2</td>\n",
       "      <td>1.00</td>\n",
       "      <td>770</td>\n",
       "      <td>10000</td>\n",
       "      <td>1.0</td>\n",
       "      <td>0</td>\n",
       "      <td>0</td>\n",
       "      <td>3</td>\n",
       "      <td>6</td>\n",
       "      <td>770</td>\n",
       "      <td>0</td>\n",
       "      <td>1933</td>\n",
       "      <td>0</td>\n",
       "      <td>98028</td>\n",
       "      <td>47.7379</td>\n",
       "      <td>-122.233</td>\n",
       "      <td>2720</td>\n",
       "      <td>8062</td>\n",
       "    </tr>\n",
       "    <tr>\n",
       "      <th>3</th>\n",
       "      <td>2487200875</td>\n",
       "      <td>20141209T000000</td>\n",
       "      <td>604000.0</td>\n",
       "      <td>4</td>\n",
       "      <td>3.00</td>\n",
       "      <td>1960</td>\n",
       "      <td>5000</td>\n",
       "      <td>1.0</td>\n",
       "      <td>0</td>\n",
       "      <td>0</td>\n",
       "      <td>5</td>\n",
       "      <td>7</td>\n",
       "      <td>1050</td>\n",
       "      <td>910</td>\n",
       "      <td>1965</td>\n",
       "      <td>0</td>\n",
       "      <td>98136</td>\n",
       "      <td>47.5208</td>\n",
       "      <td>-122.393</td>\n",
       "      <td>1360</td>\n",
       "      <td>5000</td>\n",
       "    </tr>\n",
       "    <tr>\n",
       "      <th>4</th>\n",
       "      <td>1954400510</td>\n",
       "      <td>20150218T000000</td>\n",
       "      <td>510000.0</td>\n",
       "      <td>3</td>\n",
       "      <td>2.00</td>\n",
       "      <td>1680</td>\n",
       "      <td>8080</td>\n",
       "      <td>1.0</td>\n",
       "      <td>0</td>\n",
       "      <td>0</td>\n",
       "      <td>3</td>\n",
       "      <td>8</td>\n",
       "      <td>1680</td>\n",
       "      <td>0</td>\n",
       "      <td>1987</td>\n",
       "      <td>0</td>\n",
       "      <td>98074</td>\n",
       "      <td>47.6168</td>\n",
       "      <td>-122.045</td>\n",
       "      <td>1800</td>\n",
       "      <td>7503</td>\n",
       "    </tr>\n",
       "  </tbody>\n",
       "</table>\n",
       "</div>"
      ],
      "text/plain": [
       "           id             date     price  bedrooms  bathrooms  sqft_living  \\\n",
       "0  7129300520  20141013T000000  221900.0         3       1.00         1180   \n",
       "1  6414100192  20141209T000000  538000.0         3       2.25         2570   \n",
       "2  5631500400  20150225T000000  180000.0         2       1.00          770   \n",
       "3  2487200875  20141209T000000  604000.0         4       3.00         1960   \n",
       "4  1954400510  20150218T000000  510000.0         3       2.00         1680   \n",
       "\n",
       "   sqft_lot  floors  waterfront  view  condition  grade  sqft_above  \\\n",
       "0      5650     1.0           0     0          3      7        1180   \n",
       "1      7242     2.0           0     0          3      7        2170   \n",
       "2     10000     1.0           0     0          3      6         770   \n",
       "3      5000     1.0           0     0          5      7        1050   \n",
       "4      8080     1.0           0     0          3      8        1680   \n",
       "\n",
       "   sqft_basement  yr_built  yr_renovated  zipcode      lat     long  \\\n",
       "0              0      1955             0    98178  47.5112 -122.257   \n",
       "1            400      1951          1991    98125  47.7210 -122.319   \n",
       "2              0      1933             0    98028  47.7379 -122.233   \n",
       "3            910      1965             0    98136  47.5208 -122.393   \n",
       "4              0      1987             0    98074  47.6168 -122.045   \n",
       "\n",
       "   sqft_living15  sqft_lot15  \n",
       "0           1340        5650  \n",
       "1           1690        7639  \n",
       "2           2720        8062  \n",
       "3           1360        5000  \n",
       "4           1800        7503  "
      ]
     },
     "execution_count": 3,
     "metadata": {},
     "output_type": "execute_result"
    }
   ],
   "source": [
    "pd.set_option('max_columns', None)\n",
    "df.head()"
   ]
  },
  {
   "cell_type": "code",
   "execution_count": 4,
   "id": "7b8e2339",
   "metadata": {
    "execution": {
     "iopub.execute_input": "2022-02-05T20:37:48.498033Z",
     "iopub.status.busy": "2022-02-05T20:37:48.497350Z",
     "iopub.status.idle": "2022-02-05T20:37:48.523278Z",
     "shell.execute_reply": "2022-02-05T20:37:48.523886Z",
     "shell.execute_reply.started": "2022-02-01T18:30:57.170949Z"
    },
    "papermill": {
     "duration": 0.109664,
     "end_time": "2022-02-05T20:37:48.524073",
     "exception": false,
     "start_time": "2022-02-05T20:37:48.414409",
     "status": "completed"
    },
    "tags": []
   },
   "outputs": [
    {
     "name": "stdout",
     "output_type": "stream",
     "text": [
      "<class 'pandas.core.frame.DataFrame'>\n",
      "RangeIndex: 21613 entries, 0 to 21612\n",
      "Data columns (total 21 columns):\n",
      " #   Column         Non-Null Count  Dtype  \n",
      "---  ------         --------------  -----  \n",
      " 0   id             21613 non-null  int64  \n",
      " 1   date           21613 non-null  object \n",
      " 2   price          21613 non-null  float64\n",
      " 3   bedrooms       21613 non-null  int64  \n",
      " 4   bathrooms      21613 non-null  float64\n",
      " 5   sqft_living    21613 non-null  int64  \n",
      " 6   sqft_lot       21613 non-null  int64  \n",
      " 7   floors         21613 non-null  float64\n",
      " 8   waterfront     21613 non-null  int64  \n",
      " 9   view           21613 non-null  int64  \n",
      " 10  condition      21613 non-null  int64  \n",
      " 11  grade          21613 non-null  int64  \n",
      " 12  sqft_above     21613 non-null  int64  \n",
      " 13  sqft_basement  21613 non-null  int64  \n",
      " 14  yr_built       21613 non-null  int64  \n",
      " 15  yr_renovated   21613 non-null  int64  \n",
      " 16  zipcode        21613 non-null  int64  \n",
      " 17  lat            21613 non-null  float64\n",
      " 18  long           21613 non-null  float64\n",
      " 19  sqft_living15  21613 non-null  int64  \n",
      " 20  sqft_lot15     21613 non-null  int64  \n",
      "dtypes: float64(5), int64(15), object(1)\n",
      "memory usage: 3.5+ MB\n"
     ]
    }
   ],
   "source": [
    "\n",
    "df.info()"
   ]
  },
  {
   "cell_type": "code",
   "execution_count": 5,
   "id": "6fe1182e",
   "metadata": {
    "execution": {
     "iopub.execute_input": "2022-02-05T20:37:48.695453Z",
     "iopub.status.busy": "2022-02-05T20:37:48.694801Z",
     "iopub.status.idle": "2022-02-05T20:37:48.767285Z",
     "shell.execute_reply": "2022-02-05T20:37:48.767735Z",
     "shell.execute_reply.started": "2022-02-01T18:30:57.190182Z"
    },
    "papermill": {
     "duration": 0.163362,
     "end_time": "2022-02-05T20:37:48.767907",
     "exception": false,
     "start_time": "2022-02-05T20:37:48.604545",
     "status": "completed"
    },
    "tags": []
   },
   "outputs": [
    {
     "data": {
      "text/html": [
       "<div>\n",
       "<style scoped>\n",
       "    .dataframe tbody tr th:only-of-type {\n",
       "        vertical-align: middle;\n",
       "    }\n",
       "\n",
       "    .dataframe tbody tr th {\n",
       "        vertical-align: top;\n",
       "    }\n",
       "\n",
       "    .dataframe thead th {\n",
       "        text-align: right;\n",
       "    }\n",
       "</style>\n",
       "<table border=\"1\" class=\"dataframe\">\n",
       "  <thead>\n",
       "    <tr style=\"text-align: right;\">\n",
       "      <th></th>\n",
       "      <th>id</th>\n",
       "      <th>price</th>\n",
       "      <th>bedrooms</th>\n",
       "      <th>bathrooms</th>\n",
       "      <th>sqft_living</th>\n",
       "      <th>sqft_lot</th>\n",
       "      <th>floors</th>\n",
       "      <th>waterfront</th>\n",
       "      <th>view</th>\n",
       "      <th>condition</th>\n",
       "      <th>grade</th>\n",
       "      <th>sqft_above</th>\n",
       "      <th>sqft_basement</th>\n",
       "      <th>yr_built</th>\n",
       "      <th>yr_renovated</th>\n",
       "      <th>zipcode</th>\n",
       "      <th>lat</th>\n",
       "      <th>long</th>\n",
       "      <th>sqft_living15</th>\n",
       "      <th>sqft_lot15</th>\n",
       "    </tr>\n",
       "  </thead>\n",
       "  <tbody>\n",
       "    <tr>\n",
       "      <th>count</th>\n",
       "      <td>2.161300e+04</td>\n",
       "      <td>2.161300e+04</td>\n",
       "      <td>21613.000000</td>\n",
       "      <td>21613.000000</td>\n",
       "      <td>21613.000000</td>\n",
       "      <td>2.161300e+04</td>\n",
       "      <td>21613.000000</td>\n",
       "      <td>21613.000000</td>\n",
       "      <td>21613.000000</td>\n",
       "      <td>21613.000000</td>\n",
       "      <td>21613.000000</td>\n",
       "      <td>21613.000000</td>\n",
       "      <td>21613.000000</td>\n",
       "      <td>21613.000000</td>\n",
       "      <td>21613.000000</td>\n",
       "      <td>21613.000000</td>\n",
       "      <td>21613.000000</td>\n",
       "      <td>21613.000000</td>\n",
       "      <td>21613.000000</td>\n",
       "      <td>21613.000000</td>\n",
       "    </tr>\n",
       "    <tr>\n",
       "      <th>mean</th>\n",
       "      <td>4.580302e+09</td>\n",
       "      <td>5.400881e+05</td>\n",
       "      <td>3.370842</td>\n",
       "      <td>2.114757</td>\n",
       "      <td>2079.899736</td>\n",
       "      <td>1.510697e+04</td>\n",
       "      <td>1.494309</td>\n",
       "      <td>0.007542</td>\n",
       "      <td>0.234303</td>\n",
       "      <td>3.409430</td>\n",
       "      <td>7.656873</td>\n",
       "      <td>1788.390691</td>\n",
       "      <td>291.509045</td>\n",
       "      <td>1971.005136</td>\n",
       "      <td>84.402258</td>\n",
       "      <td>98077.939805</td>\n",
       "      <td>47.560053</td>\n",
       "      <td>-122.213896</td>\n",
       "      <td>1986.552492</td>\n",
       "      <td>12768.455652</td>\n",
       "    </tr>\n",
       "    <tr>\n",
       "      <th>std</th>\n",
       "      <td>2.876566e+09</td>\n",
       "      <td>3.671272e+05</td>\n",
       "      <td>0.930062</td>\n",
       "      <td>0.770163</td>\n",
       "      <td>918.440897</td>\n",
       "      <td>4.142051e+04</td>\n",
       "      <td>0.539989</td>\n",
       "      <td>0.086517</td>\n",
       "      <td>0.766318</td>\n",
       "      <td>0.650743</td>\n",
       "      <td>1.175459</td>\n",
       "      <td>828.090978</td>\n",
       "      <td>442.575043</td>\n",
       "      <td>29.373411</td>\n",
       "      <td>401.679240</td>\n",
       "      <td>53.505026</td>\n",
       "      <td>0.138564</td>\n",
       "      <td>0.140828</td>\n",
       "      <td>685.391304</td>\n",
       "      <td>27304.179631</td>\n",
       "    </tr>\n",
       "    <tr>\n",
       "      <th>min</th>\n",
       "      <td>1.000102e+06</td>\n",
       "      <td>7.500000e+04</td>\n",
       "      <td>0.000000</td>\n",
       "      <td>0.000000</td>\n",
       "      <td>290.000000</td>\n",
       "      <td>5.200000e+02</td>\n",
       "      <td>1.000000</td>\n",
       "      <td>0.000000</td>\n",
       "      <td>0.000000</td>\n",
       "      <td>1.000000</td>\n",
       "      <td>1.000000</td>\n",
       "      <td>290.000000</td>\n",
       "      <td>0.000000</td>\n",
       "      <td>1900.000000</td>\n",
       "      <td>0.000000</td>\n",
       "      <td>98001.000000</td>\n",
       "      <td>47.155900</td>\n",
       "      <td>-122.519000</td>\n",
       "      <td>399.000000</td>\n",
       "      <td>651.000000</td>\n",
       "    </tr>\n",
       "    <tr>\n",
       "      <th>25%</th>\n",
       "      <td>2.123049e+09</td>\n",
       "      <td>3.219500e+05</td>\n",
       "      <td>3.000000</td>\n",
       "      <td>1.750000</td>\n",
       "      <td>1427.000000</td>\n",
       "      <td>5.040000e+03</td>\n",
       "      <td>1.000000</td>\n",
       "      <td>0.000000</td>\n",
       "      <td>0.000000</td>\n",
       "      <td>3.000000</td>\n",
       "      <td>7.000000</td>\n",
       "      <td>1190.000000</td>\n",
       "      <td>0.000000</td>\n",
       "      <td>1951.000000</td>\n",
       "      <td>0.000000</td>\n",
       "      <td>98033.000000</td>\n",
       "      <td>47.471000</td>\n",
       "      <td>-122.328000</td>\n",
       "      <td>1490.000000</td>\n",
       "      <td>5100.000000</td>\n",
       "    </tr>\n",
       "    <tr>\n",
       "      <th>50%</th>\n",
       "      <td>3.904930e+09</td>\n",
       "      <td>4.500000e+05</td>\n",
       "      <td>3.000000</td>\n",
       "      <td>2.250000</td>\n",
       "      <td>1910.000000</td>\n",
       "      <td>7.618000e+03</td>\n",
       "      <td>1.500000</td>\n",
       "      <td>0.000000</td>\n",
       "      <td>0.000000</td>\n",
       "      <td>3.000000</td>\n",
       "      <td>7.000000</td>\n",
       "      <td>1560.000000</td>\n",
       "      <td>0.000000</td>\n",
       "      <td>1975.000000</td>\n",
       "      <td>0.000000</td>\n",
       "      <td>98065.000000</td>\n",
       "      <td>47.571800</td>\n",
       "      <td>-122.230000</td>\n",
       "      <td>1840.000000</td>\n",
       "      <td>7620.000000</td>\n",
       "    </tr>\n",
       "    <tr>\n",
       "      <th>75%</th>\n",
       "      <td>7.308900e+09</td>\n",
       "      <td>6.450000e+05</td>\n",
       "      <td>4.000000</td>\n",
       "      <td>2.500000</td>\n",
       "      <td>2550.000000</td>\n",
       "      <td>1.068800e+04</td>\n",
       "      <td>2.000000</td>\n",
       "      <td>0.000000</td>\n",
       "      <td>0.000000</td>\n",
       "      <td>4.000000</td>\n",
       "      <td>8.000000</td>\n",
       "      <td>2210.000000</td>\n",
       "      <td>560.000000</td>\n",
       "      <td>1997.000000</td>\n",
       "      <td>0.000000</td>\n",
       "      <td>98118.000000</td>\n",
       "      <td>47.678000</td>\n",
       "      <td>-122.125000</td>\n",
       "      <td>2360.000000</td>\n",
       "      <td>10083.000000</td>\n",
       "    </tr>\n",
       "    <tr>\n",
       "      <th>max</th>\n",
       "      <td>9.900000e+09</td>\n",
       "      <td>7.700000e+06</td>\n",
       "      <td>33.000000</td>\n",
       "      <td>8.000000</td>\n",
       "      <td>13540.000000</td>\n",
       "      <td>1.651359e+06</td>\n",
       "      <td>3.500000</td>\n",
       "      <td>1.000000</td>\n",
       "      <td>4.000000</td>\n",
       "      <td>5.000000</td>\n",
       "      <td>13.000000</td>\n",
       "      <td>9410.000000</td>\n",
       "      <td>4820.000000</td>\n",
       "      <td>2015.000000</td>\n",
       "      <td>2015.000000</td>\n",
       "      <td>98199.000000</td>\n",
       "      <td>47.777600</td>\n",
       "      <td>-121.315000</td>\n",
       "      <td>6210.000000</td>\n",
       "      <td>871200.000000</td>\n",
       "    </tr>\n",
       "  </tbody>\n",
       "</table>\n",
       "</div>"
      ],
      "text/plain": [
       "                 id         price      bedrooms     bathrooms   sqft_living  \\\n",
       "count  2.161300e+04  2.161300e+04  21613.000000  21613.000000  21613.000000   \n",
       "mean   4.580302e+09  5.400881e+05      3.370842      2.114757   2079.899736   \n",
       "std    2.876566e+09  3.671272e+05      0.930062      0.770163    918.440897   \n",
       "min    1.000102e+06  7.500000e+04      0.000000      0.000000    290.000000   \n",
       "25%    2.123049e+09  3.219500e+05      3.000000      1.750000   1427.000000   \n",
       "50%    3.904930e+09  4.500000e+05      3.000000      2.250000   1910.000000   \n",
       "75%    7.308900e+09  6.450000e+05      4.000000      2.500000   2550.000000   \n",
       "max    9.900000e+09  7.700000e+06     33.000000      8.000000  13540.000000   \n",
       "\n",
       "           sqft_lot        floors    waterfront          view     condition  \\\n",
       "count  2.161300e+04  21613.000000  21613.000000  21613.000000  21613.000000   \n",
       "mean   1.510697e+04      1.494309      0.007542      0.234303      3.409430   \n",
       "std    4.142051e+04      0.539989      0.086517      0.766318      0.650743   \n",
       "min    5.200000e+02      1.000000      0.000000      0.000000      1.000000   \n",
       "25%    5.040000e+03      1.000000      0.000000      0.000000      3.000000   \n",
       "50%    7.618000e+03      1.500000      0.000000      0.000000      3.000000   \n",
       "75%    1.068800e+04      2.000000      0.000000      0.000000      4.000000   \n",
       "max    1.651359e+06      3.500000      1.000000      4.000000      5.000000   \n",
       "\n",
       "              grade    sqft_above  sqft_basement      yr_built  yr_renovated  \\\n",
       "count  21613.000000  21613.000000   21613.000000  21613.000000  21613.000000   \n",
       "mean       7.656873   1788.390691     291.509045   1971.005136     84.402258   \n",
       "std        1.175459    828.090978     442.575043     29.373411    401.679240   \n",
       "min        1.000000    290.000000       0.000000   1900.000000      0.000000   \n",
       "25%        7.000000   1190.000000       0.000000   1951.000000      0.000000   \n",
       "50%        7.000000   1560.000000       0.000000   1975.000000      0.000000   \n",
       "75%        8.000000   2210.000000     560.000000   1997.000000      0.000000   \n",
       "max       13.000000   9410.000000    4820.000000   2015.000000   2015.000000   \n",
       "\n",
       "            zipcode           lat          long  sqft_living15     sqft_lot15  \n",
       "count  21613.000000  21613.000000  21613.000000   21613.000000   21613.000000  \n",
       "mean   98077.939805     47.560053   -122.213896    1986.552492   12768.455652  \n",
       "std       53.505026      0.138564      0.140828     685.391304   27304.179631  \n",
       "min    98001.000000     47.155900   -122.519000     399.000000     651.000000  \n",
       "25%    98033.000000     47.471000   -122.328000    1490.000000    5100.000000  \n",
       "50%    98065.000000     47.571800   -122.230000    1840.000000    7620.000000  \n",
       "75%    98118.000000     47.678000   -122.125000    2360.000000   10083.000000  \n",
       "max    98199.000000     47.777600   -121.315000    6210.000000  871200.000000  "
      ]
     },
     "execution_count": 5,
     "metadata": {},
     "output_type": "execute_result"
    }
   ],
   "source": [
    "df.describe()"
   ]
  },
  {
   "cell_type": "code",
   "execution_count": 6,
   "id": "1faa8f7b",
   "metadata": {
    "execution": {
     "iopub.execute_input": "2022-02-05T20:37:48.936847Z",
     "iopub.status.busy": "2022-02-05T20:37:48.936215Z",
     "iopub.status.idle": "2022-02-05T20:37:48.946489Z",
     "shell.execute_reply": "2022-02-05T20:37:48.947022Z",
     "shell.execute_reply.started": "2022-02-01T18:30:57.276374Z"
    },
    "papermill": {
     "duration": 0.097788,
     "end_time": "2022-02-05T20:37:48.947200",
     "exception": false,
     "start_time": "2022-02-05T20:37:48.849412",
     "status": "completed"
    },
    "tags": []
   },
   "outputs": [
    {
     "data": {
      "text/plain": [
       "id               0\n",
       "date             0\n",
       "price            0\n",
       "bedrooms         0\n",
       "bathrooms        0\n",
       "sqft_living      0\n",
       "sqft_lot         0\n",
       "floors           0\n",
       "waterfront       0\n",
       "view             0\n",
       "condition        0\n",
       "grade            0\n",
       "sqft_above       0\n",
       "sqft_basement    0\n",
       "yr_built         0\n",
       "yr_renovated     0\n",
       "zipcode          0\n",
       "lat              0\n",
       "long             0\n",
       "sqft_living15    0\n",
       "sqft_lot15       0\n",
       "dtype: int64"
      ]
     },
     "execution_count": 6,
     "metadata": {},
     "output_type": "execute_result"
    }
   ],
   "source": [
    "df.isnull().sum()"
   ]
  },
  {
   "cell_type": "markdown",
   "id": "2dd4c01f",
   "metadata": {
    "papermill": {
     "duration": 0.082703,
     "end_time": "2022-02-05T20:37:49.113104",
     "exception": false,
     "start_time": "2022-02-05T20:37:49.030401",
     "status": "completed"
    },
    "tags": []
   },
   "source": []
  },
  {
   "cell_type": "markdown",
   "id": "4d2bd25e",
   "metadata": {
    "papermill": {
     "duration": 0.081202,
     "end_time": "2022-02-05T20:37:49.277102",
     "exception": false,
     "start_time": "2022-02-05T20:37:49.195900",
     "status": "completed"
    },
    "tags": []
   },
   "source": []
  },
  {
   "cell_type": "code",
   "execution_count": 7,
   "id": "1918ffbd",
   "metadata": {
    "execution": {
     "iopub.execute_input": "2022-02-05T20:37:49.446608Z",
     "iopub.status.busy": "2022-02-05T20:37:49.445681Z",
     "iopub.status.idle": "2022-02-05T20:37:49.451049Z",
     "shell.execute_reply": "2022-02-05T20:37:49.451862Z",
     "shell.execute_reply.started": "2022-02-01T18:30:57.290178Z"
    },
    "papermill": {
     "duration": 0.091611,
     "end_time": "2022-02-05T20:37:49.452105",
     "exception": false,
     "start_time": "2022-02-05T20:37:49.360494",
     "status": "completed"
    },
    "tags": []
   },
   "outputs": [],
   "source": [
    "# remove id and date column\n",
    "df.drop(['id', 'date'], axis = 1, inplace=True)"
   ]
  },
  {
   "cell_type": "markdown",
   "id": "0ae41b52",
   "metadata": {
    "papermill": {
     "duration": 0.081989,
     "end_time": "2022-02-05T20:37:49.616298",
     "exception": false,
     "start_time": "2022-02-05T20:37:49.534309",
     "status": "completed"
    },
    "tags": []
   },
   "source": []
  },
  {
   "cell_type": "code",
   "execution_count": 8,
   "id": "0e4d185f",
   "metadata": {
    "execution": {
     "iopub.execute_input": "2022-02-05T20:37:49.785823Z",
     "iopub.status.busy": "2022-02-05T20:37:49.784854Z",
     "iopub.status.idle": "2022-02-05T20:37:49.802796Z",
     "shell.execute_reply": "2022-02-05T20:37:49.803348Z",
     "shell.execute_reply.started": "2022-02-01T18:30:57.301439Z"
    },
    "papermill": {
     "duration": 0.103925,
     "end_time": "2022-02-05T20:37:49.803517",
     "exception": false,
     "start_time": "2022-02-05T20:37:49.699592",
     "status": "completed"
    },
    "tags": []
   },
   "outputs": [
    {
     "data": {
      "text/html": [
       "<div>\n",
       "<style scoped>\n",
       "    .dataframe tbody tr th:only-of-type {\n",
       "        vertical-align: middle;\n",
       "    }\n",
       "\n",
       "    .dataframe tbody tr th {\n",
       "        vertical-align: top;\n",
       "    }\n",
       "\n",
       "    .dataframe thead th {\n",
       "        text-align: right;\n",
       "    }\n",
       "</style>\n",
       "<table border=\"1\" class=\"dataframe\">\n",
       "  <thead>\n",
       "    <tr style=\"text-align: right;\">\n",
       "      <th></th>\n",
       "      <th>price</th>\n",
       "      <th>bedrooms</th>\n",
       "      <th>bathrooms</th>\n",
       "      <th>sqft_living</th>\n",
       "      <th>sqft_lot</th>\n",
       "      <th>floors</th>\n",
       "      <th>waterfront</th>\n",
       "      <th>view</th>\n",
       "      <th>condition</th>\n",
       "      <th>grade</th>\n",
       "      <th>sqft_above</th>\n",
       "      <th>sqft_basement</th>\n",
       "      <th>yr_built</th>\n",
       "      <th>yr_renovated</th>\n",
       "      <th>zipcode</th>\n",
       "      <th>lat</th>\n",
       "      <th>long</th>\n",
       "      <th>sqft_living15</th>\n",
       "      <th>sqft_lot15</th>\n",
       "    </tr>\n",
       "  </thead>\n",
       "  <tbody>\n",
       "    <tr>\n",
       "      <th>0</th>\n",
       "      <td>221900.0</td>\n",
       "      <td>3</td>\n",
       "      <td>1.00</td>\n",
       "      <td>1180</td>\n",
       "      <td>5650</td>\n",
       "      <td>1.0</td>\n",
       "      <td>0</td>\n",
       "      <td>0</td>\n",
       "      <td>3</td>\n",
       "      <td>7</td>\n",
       "      <td>1180</td>\n",
       "      <td>0</td>\n",
       "      <td>1955</td>\n",
       "      <td>0</td>\n",
       "      <td>98178</td>\n",
       "      <td>47.5112</td>\n",
       "      <td>-122.257</td>\n",
       "      <td>1340</td>\n",
       "      <td>5650</td>\n",
       "    </tr>\n",
       "    <tr>\n",
       "      <th>1</th>\n",
       "      <td>538000.0</td>\n",
       "      <td>3</td>\n",
       "      <td>2.25</td>\n",
       "      <td>2570</td>\n",
       "      <td>7242</td>\n",
       "      <td>2.0</td>\n",
       "      <td>0</td>\n",
       "      <td>0</td>\n",
       "      <td>3</td>\n",
       "      <td>7</td>\n",
       "      <td>2170</td>\n",
       "      <td>400</td>\n",
       "      <td>1951</td>\n",
       "      <td>1991</td>\n",
       "      <td>98125</td>\n",
       "      <td>47.7210</td>\n",
       "      <td>-122.319</td>\n",
       "      <td>1690</td>\n",
       "      <td>7639</td>\n",
       "    </tr>\n",
       "    <tr>\n",
       "      <th>2</th>\n",
       "      <td>180000.0</td>\n",
       "      <td>2</td>\n",
       "      <td>1.00</td>\n",
       "      <td>770</td>\n",
       "      <td>10000</td>\n",
       "      <td>1.0</td>\n",
       "      <td>0</td>\n",
       "      <td>0</td>\n",
       "      <td>3</td>\n",
       "      <td>6</td>\n",
       "      <td>770</td>\n",
       "      <td>0</td>\n",
       "      <td>1933</td>\n",
       "      <td>0</td>\n",
       "      <td>98028</td>\n",
       "      <td>47.7379</td>\n",
       "      <td>-122.233</td>\n",
       "      <td>2720</td>\n",
       "      <td>8062</td>\n",
       "    </tr>\n",
       "    <tr>\n",
       "      <th>3</th>\n",
       "      <td>604000.0</td>\n",
       "      <td>4</td>\n",
       "      <td>3.00</td>\n",
       "      <td>1960</td>\n",
       "      <td>5000</td>\n",
       "      <td>1.0</td>\n",
       "      <td>0</td>\n",
       "      <td>0</td>\n",
       "      <td>5</td>\n",
       "      <td>7</td>\n",
       "      <td>1050</td>\n",
       "      <td>910</td>\n",
       "      <td>1965</td>\n",
       "      <td>0</td>\n",
       "      <td>98136</td>\n",
       "      <td>47.5208</td>\n",
       "      <td>-122.393</td>\n",
       "      <td>1360</td>\n",
       "      <td>5000</td>\n",
       "    </tr>\n",
       "    <tr>\n",
       "      <th>4</th>\n",
       "      <td>510000.0</td>\n",
       "      <td>3</td>\n",
       "      <td>2.00</td>\n",
       "      <td>1680</td>\n",
       "      <td>8080</td>\n",
       "      <td>1.0</td>\n",
       "      <td>0</td>\n",
       "      <td>0</td>\n",
       "      <td>3</td>\n",
       "      <td>8</td>\n",
       "      <td>1680</td>\n",
       "      <td>0</td>\n",
       "      <td>1987</td>\n",
       "      <td>0</td>\n",
       "      <td>98074</td>\n",
       "      <td>47.6168</td>\n",
       "      <td>-122.045</td>\n",
       "      <td>1800</td>\n",
       "      <td>7503</td>\n",
       "    </tr>\n",
       "  </tbody>\n",
       "</table>\n",
       "</div>"
      ],
      "text/plain": [
       "      price  bedrooms  bathrooms  sqft_living  sqft_lot  floors  waterfront  \\\n",
       "0  221900.0         3       1.00         1180      5650     1.0           0   \n",
       "1  538000.0         3       2.25         2570      7242     2.0           0   \n",
       "2  180000.0         2       1.00          770     10000     1.0           0   \n",
       "3  604000.0         4       3.00         1960      5000     1.0           0   \n",
       "4  510000.0         3       2.00         1680      8080     1.0           0   \n",
       "\n",
       "   view  condition  grade  sqft_above  sqft_basement  yr_built  yr_renovated  \\\n",
       "0     0          3      7        1180              0      1955             0   \n",
       "1     0          3      7        2170            400      1951          1991   \n",
       "2     0          3      6         770              0      1933             0   \n",
       "3     0          5      7        1050            910      1965             0   \n",
       "4     0          3      8        1680              0      1987             0   \n",
       "\n",
       "   zipcode      lat     long  sqft_living15  sqft_lot15  \n",
       "0    98178  47.5112 -122.257           1340        5650  \n",
       "1    98125  47.7210 -122.319           1690        7639  \n",
       "2    98028  47.7379 -122.233           2720        8062  \n",
       "3    98136  47.5208 -122.393           1360        5000  \n",
       "4    98074  47.6168 -122.045           1800        7503  "
      ]
     },
     "execution_count": 8,
     "metadata": {},
     "output_type": "execute_result"
    }
   ],
   "source": [
    "df.head()"
   ]
  },
  {
   "cell_type": "code",
   "execution_count": 9,
   "id": "3c43db2f",
   "metadata": {
    "execution": {
     "iopub.execute_input": "2022-02-05T20:37:49.972538Z",
     "iopub.status.busy": "2022-02-05T20:37:49.971572Z",
     "iopub.status.idle": "2022-02-05T20:37:49.984041Z",
     "shell.execute_reply": "2022-02-05T20:37:49.984647Z",
     "shell.execute_reply.started": "2022-02-01T18:30:57.328664Z"
    },
    "papermill": {
     "duration": 0.098724,
     "end_time": "2022-02-05T20:37:49.984816",
     "exception": false,
     "start_time": "2022-02-05T20:37:49.886092",
     "status": "completed"
    },
    "tags": []
   },
   "outputs": [
    {
     "data": {
      "text/html": [
       "<div>\n",
       "<style scoped>\n",
       "    .dataframe tbody tr th:only-of-type {\n",
       "        vertical-align: middle;\n",
       "    }\n",
       "\n",
       "    .dataframe tbody tr th {\n",
       "        vertical-align: top;\n",
       "    }\n",
       "\n",
       "    .dataframe thead th {\n",
       "        text-align: right;\n",
       "    }\n",
       "</style>\n",
       "<table border=\"1\" class=\"dataframe\">\n",
       "  <thead>\n",
       "    <tr style=\"text-align: right;\">\n",
       "      <th></th>\n",
       "      <th>floors</th>\n",
       "    </tr>\n",
       "  </thead>\n",
       "  <tbody>\n",
       "    <tr>\n",
       "      <th>1.0</th>\n",
       "      <td>10680</td>\n",
       "    </tr>\n",
       "    <tr>\n",
       "      <th>2.0</th>\n",
       "      <td>8241</td>\n",
       "    </tr>\n",
       "    <tr>\n",
       "      <th>1.5</th>\n",
       "      <td>1910</td>\n",
       "    </tr>\n",
       "    <tr>\n",
       "      <th>3.0</th>\n",
       "      <td>613</td>\n",
       "    </tr>\n",
       "    <tr>\n",
       "      <th>2.5</th>\n",
       "      <td>161</td>\n",
       "    </tr>\n",
       "    <tr>\n",
       "      <th>3.5</th>\n",
       "      <td>8</td>\n",
       "    </tr>\n",
       "  </tbody>\n",
       "</table>\n",
       "</div>"
      ],
      "text/plain": [
       "     floors\n",
       "1.0   10680\n",
       "2.0    8241\n",
       "1.5    1910\n",
       "3.0     613\n",
       "2.5     161\n",
       "3.5       8"
      ]
     },
     "execution_count": 9,
     "metadata": {},
     "output_type": "execute_result"
    }
   ],
   "source": [
    "a=df[\"floors\"].value_counts().to_frame()\n",
    "a"
   ]
  },
  {
   "cell_type": "code",
   "execution_count": 10,
   "id": "db935382",
   "metadata": {
    "execution": {
     "iopub.execute_input": "2022-02-05T20:37:50.156339Z",
     "iopub.status.busy": "2022-02-05T20:37:50.155656Z",
     "iopub.status.idle": "2022-02-05T20:37:50.402945Z",
     "shell.execute_reply": "2022-02-05T20:37:50.403427Z",
     "shell.execute_reply.started": "2022-02-01T18:30:57.339165Z"
    },
    "papermill": {
     "duration": 0.334487,
     "end_time": "2022-02-05T20:37:50.403618",
     "exception": false,
     "start_time": "2022-02-05T20:37:50.069131",
     "status": "completed"
    },
    "tags": []
   },
   "outputs": [
    {
     "data": {
      "text/plain": [
       "<AxesSubplot:xlabel='waterfront', ylabel='price'>"
      ]
     },
     "execution_count": 10,
     "metadata": {},
     "output_type": "execute_result"
    },
    {
     "data": {
      "image/png": "[encoded data removed]",
      "text/plain": [
       "<Figure size 432x288 with 1 Axes>"
      ]
     },
     "metadata": {
      "needs_background": "light"
     },
     "output_type": "display_data"
    }
   ],
   "source": [
    "\n",
    "sns.boxplot(x=df[\"waterfront\"],y=df[\"price\"])"
   ]
  },
  {
   "cell_type": "code",
   "execution_count": 11,
   "id": "3af45179",
   "metadata": {
    "execution": {
     "iopub.execute_input": "2022-02-05T20:37:50.580629Z",
     "iopub.status.busy": "2022-02-05T20:37:50.579839Z",
     "iopub.status.idle": "2022-02-05T20:37:50.598341Z",
     "shell.execute_reply": "2022-02-05T20:37:50.598876Z",
     "shell.execute_reply.started": "2022-02-01T18:33:58.627379Z"
    },
    "papermill": {
     "duration": 0.111348,
     "end_time": "2022-02-05T20:37:50.599072",
     "exception": false,
     "start_time": "2022-02-05T20:37:50.487724",
     "status": "completed"
    },
    "tags": []
   },
   "outputs": [
    {
     "data": {
      "text/plain": [
       "0.4928532179037931"
      ]
     },
     "execution_count": 11,
     "metadata": {},
     "output_type": "execute_result"
    }
   ],
   "source": [
    "X = df[['sqft_living']]\n",
    "Y = df['price']\n",
    "lm = LinearRegression()\n",
    "lm.fit(X,Y)\n",
    "lm.score(X, Y)"
   ]
  },
  {
   "cell_type": "code",
   "execution_count": 12,
   "id": "0a27c274",
   "metadata": {
    "execution": {
     "iopub.execute_input": "2022-02-05T20:37:50.777825Z",
     "iopub.status.busy": "2022-02-05T20:37:50.777068Z",
     "iopub.status.idle": "2022-02-05T20:37:50.778428Z",
     "shell.execute_reply": "2022-02-05T20:37:50.779031Z",
     "shell.execute_reply.started": "2022-02-01T18:34:59.615231Z"
    },
    "papermill": {
     "duration": 0.094545,
     "end_time": "2022-02-05T20:37:50.779203",
     "exception": false,
     "start_time": "2022-02-05T20:37:50.684658",
     "status": "completed"
    },
    "tags": []
   },
   "outputs": [],
   "source": [
    "features =[\"floors\", \"waterfront\",\"lat\" ,\"bedrooms\" ,\"sqft_basement\" ,\"view\" ,\"bathrooms\",\"sqft_living15\",\"sqft_above\",\"grade\",\"sqft_living\"]"
   ]
  },
  {
   "cell_type": "code",
   "execution_count": 13,
   "id": "d53a24ce",
   "metadata": {
    "execution": {
     "iopub.execute_input": "2022-02-05T20:37:50.952812Z",
     "iopub.status.busy": "2022-02-05T20:37:50.952167Z",
     "iopub.status.idle": "2022-02-05T20:37:50.982581Z",
     "shell.execute_reply": "2022-02-05T20:37:50.983508Z",
     "shell.execute_reply.started": "2022-02-01T18:35:01.609119Z"
    },
    "papermill": {
     "duration": 0.119753,
     "end_time": "2022-02-05T20:37:50.983815",
     "exception": false,
     "start_time": "2022-02-05T20:37:50.864062",
     "status": "completed"
    },
    "tags": []
   },
   "outputs": [
    {
     "name": "stdout",
     "output_type": "stream",
     "text": [
      "The Predicted values are mentioned as: [287160.14176653 661944.14176653 308152.14176653 ... 303544.14176653\n",
      " 426424.14176653 303544.14176653]\n",
      "The R^2 value is :0.6576672506165839\n"
     ]
    }
   ],
   "source": [
    "Y = df['price']\n",
    "lm2 = LinearRegression()\n",
    "lm2.fit(df[features],Y)\n",
    "\n",
    "print(\"The Predicted values are mentioned as: \" + str (lm2.predict(df[features])))\n",
    "\n",
    "print(\"The R^2 value is :\" + str (lm2.score(df[features],Y)))"
   ]
  },
  {
   "cell_type": "code",
   "execution_count": 14,
   "id": "4f88c580",
   "metadata": {
    "execution": {
     "iopub.execute_input": "2022-02-05T20:37:51.214655Z",
     "iopub.status.busy": "2022-02-05T20:37:51.213936Z",
     "iopub.status.idle": "2022-02-05T20:37:51.216419Z",
     "shell.execute_reply": "2022-02-05T20:37:51.215920Z",
     "shell.execute_reply.started": "2022-02-01T18:36:14.095703Z"
    },
    "papermill": {
     "duration": 0.093734,
     "end_time": "2022-02-05T20:37:51.216570",
     "exception": false,
     "start_time": "2022-02-05T20:37:51.122836",
     "status": "completed"
    },
    "tags": []
   },
   "outputs": [],
   "source": [
    "Input=[('scale',StandardScaler()),('polynomial', PolynomialFeatures(include_bias=False)),('model',LinearRegression())]\n",
    "\n"
   ]
  },
  {
   "cell_type": "code",
   "execution_count": 15,
   "id": "76c1bc1b",
   "metadata": {
    "execution": {
     "iopub.execute_input": "2022-02-05T20:37:51.396161Z",
     "iopub.status.busy": "2022-02-05T20:37:51.390053Z",
     "iopub.status.idle": "2022-02-05T20:37:51.554585Z",
     "shell.execute_reply": "2022-02-05T20:37:51.555706Z",
     "shell.execute_reply.started": "2022-02-01T18:36:15.92098Z"
    },
    "papermill": {
     "duration": 0.254863,
     "end_time": "2022-02-05T20:37:51.555992",
     "exception": false,
     "start_time": "2022-02-05T20:37:51.301129",
     "status": "completed"
    },
    "tags": []
   },
   "outputs": [
    {
     "name": "stdout",
     "output_type": "stream",
     "text": [
      "The predicted values are: [349652.25 559258.25 447790.   ... 418785.5  459666.5  418753.5 ]\n",
      "The R^2 value is :0.7513469726026186\n"
     ]
    }
   ],
   "source": [
    "pipe =Pipeline(Input)\n",
    "pipe.fit(df[features],Y)\n",
    "print(\"The predicted values are: \" + str(pipe.predict(df[features])))\n",
    "print(\"The R^2 value is :\" + str (pipe.score(df[features], Y)))"
   ]
  },
  {
   "cell_type": "code",
   "execution_count": 16,
   "id": "cdd453c6",
   "metadata": {
    "execution": {
     "iopub.execute_input": "2022-02-05T20:37:51.787467Z",
     "iopub.status.busy": "2022-02-05T20:37:51.786764Z",
     "iopub.status.idle": "2022-02-05T20:37:51.899606Z",
     "shell.execute_reply": "2022-02-05T20:37:51.898876Z"
    },
    "papermill": {
     "duration": 0.204971,
     "end_time": "2022-02-05T20:37:51.899890",
     "exception": true,
     "start_time": "2022-02-05T20:37:51.694919",
     "status": "failed"
    },
    "tags": []
   },
   "outputs": [
    {
     "ename": "NameError",
     "evalue": "name 'train_test_split' is not defined",
     "output_type": "error",
     "traceback": [
      "\u001b[0;31m---------------------------------------------------------------------------\u001b[0m",
      "\u001b[0;31mNameError\u001b[0m                                 Traceback (most recent call last)",
      "\u001b[0;32m/tmp/ipykernel_19/3582017237.py\u001b[0m in \u001b[0;36m<module>\u001b[0;34m\u001b[0m\n\u001b[1;32m      3\u001b[0m \u001b[0mY\u001b[0m \u001b[0;34m=\u001b[0m \u001b[0mdf\u001b[0m\u001b[0;34m[\u001b[0m\u001b[0;34m'price'\u001b[0m\u001b[0;34m]\u001b[0m\u001b[0;34m\u001b[0m\u001b[0;34m\u001b[0m\u001b[0m\n\u001b[1;32m      4\u001b[0m \u001b[0;34m\u001b[0m\u001b[0m\n\u001b[0;32m----> 5\u001b[0;31m \u001b[0mx_train\u001b[0m\u001b[0;34m,\u001b[0m \u001b[0mx_test\u001b[0m\u001b[0;34m,\u001b[0m \u001b[0my_train\u001b[0m\u001b[0;34m,\u001b[0m \u001b[0my_test\u001b[0m \u001b[0;34m=\u001b[0m \u001b[0mtrain_test_split\u001b[0m\u001b[0;34m(\u001b[0m\u001b[0mX\u001b[0m\u001b[0;34m,\u001b[0m \u001b[0mY\u001b[0m\u001b[0;34m,\u001b[0m \u001b[0mtest_size\u001b[0m\u001b[0;34m=\u001b[0m\u001b[0;36m0.15\u001b[0m\u001b[0;34m,\u001b[0m \u001b[0mrandom_state\u001b[0m\u001b[0;34m=\u001b[0m\u001b[0;36m1\u001b[0m\u001b[0;34m)\u001b[0m\u001b[0;34m\u001b[0m\u001b[0;34m\u001b[0m\u001b[0m\n\u001b[0m\u001b[1;32m      6\u001b[0m \u001b[0;34m\u001b[0m\u001b[0m\n\u001b[1;32m      7\u001b[0m \u001b[0;34m\u001b[0m\u001b[0m\n",
      "\u001b[0;31mNameError\u001b[0m: name 'train_test_split' is not defined"
     ]
    }
   ],
   "source": [
    "features =[\"floors\", \"waterfront\",\"lat\" ,\"bedrooms\" ,\"sqft_basement\" ,\"view\" ,\"bathrooms\",\"sqft_living15\",\"sqft_above\",\"grade\",\"sqft_living\"]    \n",
    "X = df[features]\n",
    "Y = df['price']\n",
    "\n",
    "x_train, x_test, y_train, y_test = train_test_split(X, Y, test_size=0.15, random_state=1)\n",
    "\n",
    "\n",
    "print(\"number of test samples:\", x_test.shape[0])\n",
    "print(\"number of training samples:\",x_train.shape[0])\n",
    "\n",
    "\n"
   ]
  },
  {
   "cell_type": "code",
   "execution_count": null,
   "id": "92181208",
   "metadata": {
    "papermill": {
     "duration": null,
     "end_time": null,
     "exception": null,
     "start_time": null,
     "status": "pending"
    },
    "tags": []
   },
   "outputs": [],
   "source": [
    "from sklearn.linear_model import Ridge"
   ]
  },
  {
   "cell_type": "code",
   "execution_count": null,
   "id": "e0ba22d6",
   "metadata": {
    "papermill": {
     "duration": null,
     "end_time": null,
     "exception": null,
     "start_time": null,
     "status": "pending"
    },
    "tags": []
   },
   "outputs": [],
   "source": [
    "RidgeModel = Ridge(alpha =0.1)\n",
    "RidgeModel.fit(x_train, y_train)\n",
    "print(\"The predicted values are: \" + str(RidgeModel.predict(x_test)))\n",
    "print(\"The R^2 value is :\" + str (RidgeModel.score(x_test, y_test)))\n"
   ]
  },
  {
   "cell_type": "code",
   "execution_count": null,
   "id": "7ecccce3",
   "metadata": {
    "papermill": {
     "duration": null,
     "end_time": null,
     "exception": null,
     "start_time": null,
     "status": "pending"
    },
    "tags": []
   },
   "outputs": [],
   "source": [
    "pr = PolynomialFeatures(degree=2)\n",
    "x_train_pr = pr.fit_transform(x_train[features])\n",
    "x_test_pr = pr.fit_transform(x_test[features])\n",
    "\n",
    "RidgeModel = Ridge(alpha = 0.1)\n",
    "RidgeModel.fit(x_train_pr, y_train)\n",
    "yhat = RidgeModel.predict(x_test_pr)\n",
    "\n",
    "print(\"The R^2 Score Value for the training data is :\" + str(RidgeModel.score(x_train_pr, y_train)))\n",
    "print(\"The R^2 Score Value for the testing data is :\" + str(RidgeModel.score(x_test_pr, y_test)))"
   ]
  },
  {
   "cell_type": "code",
   "execution_count": null,
   "id": "326ecd57",
   "metadata": {
    "execution": {
     "iopub.status.busy": "2022-02-01T18:30:57.587712Z",
     "iopub.status.idle": "2022-02-01T18:30:57.588331Z",
     "shell.execute_reply": "2022-02-01T18:30:57.588156Z",
     "shell.execute_reply.started": "2022-02-01T18:30:57.588126Z"
    },
    "papermill": {
     "duration": null,
     "end_time": null,
     "exception": null,
     "start_time": null,
     "status": "pending"
    },
    "tags": []
   },
   "outputs": [],
   "source": []
  },
  {
   "cell_type": "code",
   "execution_count": null,
   "id": "15cd43df",
   "metadata": {
    "execution": {
     "iopub.status.busy": "2022-02-01T18:30:57.589272Z",
     "iopub.status.idle": "2022-02-01T18:30:57.589884Z",
     "shell.execute_reply": "2022-02-01T18:30:57.589697Z",
     "shell.execute_reply.started": "2022-02-01T18:30:57.589672Z"
    },
    "papermill": {
     "duration": null,
     "end_time": null,
     "exception": null,
     "start_time": null,
     "status": "pending"
    },
    "tags": []
   },
   "outputs": [],
   "source": []
  },
  {
   "cell_type": "markdown",
   "id": "b3685b28",
   "metadata": {
    "papermill": {
     "duration": null,
     "end_time": null,
     "exception": null,
     "start_time": null,
     "status": "pending"
    },
    "tags": []
   },
   "source": [
    "# EDA"
   ]
  },
  {
   "cell_type": "code",
   "execution_count": null,
   "id": "4edc4a46",
   "metadata": {
    "execution": {
     "iopub.status.busy": "2022-02-01T18:30:57.591887Z",
     "iopub.status.idle": "2022-02-01T18:30:57.592246Z",
     "shell.execute_reply": "2022-02-01T18:30:57.592078Z",
     "shell.execute_reply.started": "2022-02-01T18:30:57.592055Z"
    },
    "papermill": {
     "duration": null,
     "end_time": null,
     "exception": null,
     "start_time": null,
     "status": "pending"
    },
    "tags": []
   },
   "outputs": [],
   "source": [
    "sns.set(style = 'whitegrid' ,font = 'Rubik', font_scale = 1.1, rc={'axes.facecolor':'#fff8dc', 'figure.facecolor':'#fff8dc', \n",
    "                                                                   \"axes.spines.right\": False, \"axes.spines.top\": False})"
   ]
  },
  {
   "cell_type": "code",
   "execution_count": null,
   "id": "24a8f6b7",
   "metadata": {
    "execution": {
     "iopub.status.busy": "2022-02-01T18:30:57.593476Z",
     "iopub.status.idle": "2022-02-01T18:30:57.593835Z",
     "shell.execute_reply": "2022-02-01T18:30:57.593679Z",
     "shell.execute_reply.started": "2022-02-01T18:30:57.593655Z"
    },
    "papermill": {
     "duration": null,
     "end_time": null,
     "exception": null,
     "start_time": null,
     "status": "pending"
    },
    "tags": []
   },
   "outputs": [],
   "source": [
    "plt.figure(figsize=(14, 11))\n",
    "sns.displot(x='price', data=df, bins=100, kde=True, height=10, aspect=1.5, color='purple')\n",
    "plt.ticklabel_format(style='plain', axis='x')\n",
    "plt.title(\"Distribution of Price\", fontsize=18)"
   ]
  },
  {
   "cell_type": "markdown",
   "id": "d60f7db3",
   "metadata": {
    "papermill": {
     "duration": null,
     "end_time": null,
     "exception": null,
     "start_time": null,
     "status": "pending"
    },
    "tags": []
   },
   "source": [
    "Prices of houses are distributed in the range of $250k-$1000k"
   ]
  },
  {
   "cell_type": "code",
   "execution_count": null,
   "id": "816d94b8",
   "metadata": {
    "execution": {
     "iopub.status.busy": "2022-02-01T18:30:57.595009Z",
     "iopub.status.idle": "2022-02-01T18:30:57.595354Z",
     "shell.execute_reply": "2022-02-01T18:30:57.595208Z",
     "shell.execute_reply.started": "2022-02-01T18:30:57.595176Z"
    },
    "papermill": {
     "duration": null,
     "end_time": null,
     "exception": null,
     "start_time": null,
     "status": "pending"
    },
    "tags": []
   },
   "outputs": [],
   "source": [
    "fig, axes = plt.subplots(nrows=2, ncols=1, figsize = (15, 12))\n",
    "\n",
    "sns.boxplot(ax=axes[0], x='bedrooms', y='price', data=df, width=0.9, palette='magma')\n",
    "axes[0].ticklabel_format(style='plain', axis='y')\n",
    "axes[0].set_xlabel('Bedrooms', fontsize=13)\n",
    "axes[0].set_ylabel('Price', fontsize=13)\n",
    "axes[0].set_title('Bedrooms vs Price', fontsize=16)\n",
    "\n",
    "sns.countplot(ax=axes[1], x='bedrooms', data=df, palette='magma')\n",
    "axes[1].set_xlabel('Bedrooms', fontsize=13)\n",
    "axes[1].set_title(\"Bedroom's count\", fontsize=16)\n",
    "plt.subplots_adjust(wspace=0.4, hspace=0.4)"
   ]
  },
  {
   "cell_type": "markdown",
   "id": "b899ce70",
   "metadata": {
    "papermill": {
     "duration": null,
     "end_time": null,
     "exception": null,
     "start_time": null,
     "status": "pending"
    },
    "tags": []
   },
   "source": [
    "* Houses with number of bedrooms 4, 5, 6, 7, 8, 9 tend to have higher house prices.\n",
    "* The dataset contains maximum instances of houses having number of bedrooms 3 and 4."
   ]
  },
  {
   "cell_type": "code",
   "execution_count": null,
   "id": "64e38302",
   "metadata": {
    "execution": {
     "iopub.status.busy": "2022-02-01T18:30:57.596571Z",
     "iopub.status.idle": "2022-02-01T18:30:57.596905Z",
     "shell.execute_reply": "2022-02-01T18:30:57.59676Z",
     "shell.execute_reply.started": "2022-02-01T18:30:57.596737Z"
    },
    "papermill": {
     "duration": null,
     "end_time": null,
     "exception": null,
     "start_time": null,
     "status": "pending"
    },
    "tags": []
   },
   "outputs": [],
   "source": [
    "fig, axes = plt.subplots(nrows=2, ncols=1, figsize=(15, 12))\n",
    "\n",
    "sns.boxplot(ax=axes[0], x='bathrooms', y='price', data=df, width=0.8, palette='magma')\n",
    "axes[0].ticklabel_format(style='plain', axis='y')\n",
    "axes[0].set_xlabel('Bathrooms', fontsize=13)\n",
    "axes[0].set_ylabel('Price', fontsize=13)\n",
    "axes[0].set_title('Bathrooms vs Price', fontsize=16)\n",
    "\n",
    "sns.countplot(ax=axes[1], x='bathrooms', data=df, palette='magma')\n",
    "axes[1].set_xlabel('Bathrooms', fontsize=13)\n",
    "axes[1].set_title(\"Bathroom's count\", fontsize=16)\n",
    "plt.subplots_adjust(wspace=0.4, hspace=0.4)"
   ]
  },
  {
   "cell_type": "markdown",
   "id": "8795a476",
   "metadata": {
    "papermill": {
     "duration": null,
     "end_time": null,
     "exception": null,
     "start_time": null,
     "status": "pending"
    },
    "tags": []
   },
   "source": [
    "* As we can see from the above visualization, the more number of bathrooms a house has higher is the price of the house.\n",
    "* The dataset have high instances of houses having 2.5 bathrooms."
   ]
  },
  {
   "cell_type": "code",
   "execution_count": null,
   "id": "ce0d0ff1",
   "metadata": {
    "execution": {
     "iopub.status.busy": "2022-02-01T18:30:57.598307Z",
     "iopub.status.idle": "2022-02-01T18:30:57.598655Z",
     "shell.execute_reply": "2022-02-01T18:30:57.598477Z",
     "shell.execute_reply.started": "2022-02-01T18:30:57.598456Z"
    },
    "papermill": {
     "duration": null,
     "end_time": null,
     "exception": null,
     "start_time": null,
     "status": "pending"
    },
    "tags": []
   },
   "outputs": [],
   "source": [
    "fig, axes = plt.subplots(nrows=2, ncols=1, figsize=(15, 12))\n",
    "\n",
    "sns.boxplot(ax=axes[0], x='floors', y='price', data=df, palette='magma')\n",
    "axes[0].ticklabel_format(style='plain', axis='y')\n",
    "axes[0].set_xlabel('Floors', fontsize=13)\n",
    "axes[0].set_ylabel('Price', fontsize=13)\n",
    "axes[0].set_title('Floors vs price', fontsize=16)\n",
    "\n",
    "sns.countplot(ax=axes[1], x='floors', data=df, palette='magma')\n",
    "axes[1].set_xlabel('Floors', fontsize=13)\n",
    "axes[1].set_title(\"Floor's count\", fontsize=16)\n",
    "plt.subplots_adjust(wspace=0.4, hspace=0.4)"
   ]
  },
  {
   "cell_type": "markdown",
   "id": "4b84949c",
   "metadata": {
    "papermill": {
     "duration": null,
     "end_time": null,
     "exception": null,
     "start_time": null,
     "status": "pending"
    },
    "tags": []
   },
   "source": [
    "* Houses with 2.5 floors have higher prices.\n",
    "* Datasets has more instances of houses having 1 and 2 floors."
   ]
  },
  {
   "cell_type": "code",
   "execution_count": null,
   "id": "1eb6faed",
   "metadata": {
    "execution": {
     "iopub.status.busy": "2022-02-01T18:30:57.599734Z",
     "iopub.status.idle": "2022-02-01T18:30:57.600057Z",
     "shell.execute_reply": "2022-02-01T18:30:57.599904Z",
     "shell.execute_reply.started": "2022-02-01T18:30:57.599881Z"
    },
    "papermill": {
     "duration": null,
     "end_time": null,
     "exception": null,
     "start_time": null,
     "status": "pending"
    },
    "tags": []
   },
   "outputs": [],
   "source": [
    "fig, axes = plt.subplots(nrows=2, ncols=1, figsize=(9, 7))\n",
    "\n",
    "sns.boxplot(ax=axes[0], x='waterfront', y='price', data=df, width=0.7, palette='magma')\n",
    "axes[0].ticklabel_format(style='plain', axis='y')\n",
    "axes[0].set_xlabel('Waterfront', fontsize=13)\n",
    "axes[0].set_ylabel('Price', fontsize=13)\n",
    "axes[0].set_title('Waterfront vs price', fontsize=16)\n",
    "\n",
    "sns.countplot(ax=axes[1], x='waterfront', data=df, palette='magma')\n",
    "axes[1].set_xlabel('Waterfront', fontsize=13)\n",
    "axes[1].set_title(\"Waterfront count\", fontsize=16)\n",
    "plt.subplots_adjust(wspace=0.6, hspace=0.6)"
   ]
  },
  {
   "cell_type": "code",
   "execution_count": null,
   "id": "8d2f79d8",
   "metadata": {
    "execution": {
     "iopub.status.busy": "2022-02-01T18:30:57.601165Z",
     "iopub.status.idle": "2022-02-01T18:30:57.601851Z",
     "shell.execute_reply": "2022-02-01T18:30:57.601583Z",
     "shell.execute_reply.started": "2022-02-01T18:30:57.601537Z"
    },
    "papermill": {
     "duration": null,
     "end_time": null,
     "exception": null,
     "start_time": null,
     "status": "pending"
    },
    "tags": []
   },
   "outputs": [],
   "source": [
    "df.waterfront.value_counts()"
   ]
  },
  {
   "cell_type": "markdown",
   "id": "e9e98287",
   "metadata": {
    "papermill": {
     "duration": null,
     "end_time": null,
     "exception": null,
     "start_time": null,
     "status": "pending"
    },
    "tags": []
   },
   "source": [
    "* Houses facing water have higher prices than houses that don't face water.\n",
    "* Datasets have high instances of house not facing water than houses facing one."
   ]
  },
  {
   "cell_type": "code",
   "execution_count": null,
   "id": "88a91923",
   "metadata": {
    "execution": {
     "iopub.status.busy": "2022-02-01T18:30:57.602973Z",
     "iopub.status.idle": "2022-02-01T18:30:57.60331Z",
     "shell.execute_reply": "2022-02-01T18:30:57.603154Z",
     "shell.execute_reply.started": "2022-02-01T18:30:57.60313Z"
    },
    "papermill": {
     "duration": null,
     "end_time": null,
     "exception": null,
     "start_time": null,
     "status": "pending"
    },
    "tags": []
   },
   "outputs": [],
   "source": [
    "fig, axes = plt.subplots(nrows=2, ncols=1, figsize=(12, 9))\n",
    "\n",
    "sns.boxplot(ax=axes[0], x='view', y='price', data=df, palette='magma')\n",
    "axes[0].ticklabel_format(style='plain', axis='y')\n",
    "axes[0].set_xlabel('View', fontsize=13)\n",
    "axes[0].set_ylabel('Price', fontsize=13)\n",
    "axes[0].set_title('View vs price', fontsize=16)\n",
    "\n",
    "sns.countplot(ax=axes[1], x='view', data=df, palette='magma')\n",
    "axes[1].set_xlabel('View', fontsize=13)\n",
    "axes[1].set_title(\"View count\", fontsize=16)\n",
    "plt.subplots_adjust(wspace=0.4, hspace=0.4)"
   ]
  },
  {
   "cell_type": "markdown",
   "id": "2db0e9ce",
   "metadata": {
    "papermill": {
     "duration": null,
     "end_time": null,
     "exception": null,
     "start_time": null,
     "status": "pending"
    },
    "tags": []
   },
   "source": [
    "* Houses with better view have high prices."
   ]
  },
  {
   "cell_type": "code",
   "execution_count": null,
   "id": "b61f1737",
   "metadata": {
    "execution": {
     "iopub.status.busy": "2022-02-01T18:30:57.604488Z",
     "iopub.status.idle": "2022-02-01T18:30:57.604973Z",
     "shell.execute_reply": "2022-02-01T18:30:57.604745Z",
     "shell.execute_reply.started": "2022-02-01T18:30:57.60472Z"
    },
    "papermill": {
     "duration": null,
     "end_time": null,
     "exception": null,
     "start_time": null,
     "status": "pending"
    },
    "tags": []
   },
   "outputs": [],
   "source": [
    "fig, axes = plt.subplots(nrows=2, ncols=1, figsize=(13, 13))\n",
    "\n",
    "sns.boxplot(ax=axes[0], x='condition', y='price', data=df, palette='magma')\n",
    "axes[0].ticklabel_format(style='plain', axis='y')\n",
    "axes[0].set_xlabel('Condition', fontsize=13)\n",
    "axes[0].set_ylabel('Price', fontsize=13)\n",
    "axes[0].set_title('Condition vs price', fontsize=16)\n",
    "\n",
    "sns.countplot(ax=axes[1], x='condition', data=df, palette='magma')\n",
    "axes[1].set_xlabel('Condition', fontsize=13)\n",
    "axes[1].set_title(\"Condition's count\", fontsize=16)\n",
    "plt.subplots_adjust(wspace=0.4, hspace=0.4)"
   ]
  },
  {
   "cell_type": "markdown",
   "id": "cd004c8c",
   "metadata": {
    "papermill": {
     "duration": null,
     "end_time": null,
     "exception": null,
     "start_time": null,
     "status": "pending"
    },
    "tags": []
   },
   "source": [
    "* Better the condition of a house higher is it price.\n",
    "* Dataset has more instances of house having condition rated 3."
   ]
  },
  {
   "cell_type": "code",
   "execution_count": null,
   "id": "25ac8159",
   "metadata": {
    "execution": {
     "iopub.status.busy": "2022-02-01T18:30:57.607317Z",
     "iopub.status.idle": "2022-02-01T18:30:57.60788Z",
     "shell.execute_reply": "2022-02-01T18:30:57.607633Z",
     "shell.execute_reply.started": "2022-02-01T18:30:57.607605Z"
    },
    "papermill": {
     "duration": null,
     "end_time": null,
     "exception": null,
     "start_time": null,
     "status": "pending"
    },
    "tags": []
   },
   "outputs": [],
   "source": [
    "fig, axes = plt.subplots(nrows=2, ncols=1, figsize=(15, 12))\n",
    "\n",
    "sns.boxplot(ax=axes[0], x='grade', y='price', data=df, palette='magma')\n",
    "axes[0].ticklabel_format(style='plain', axis='y')\n",
    "axes[0].set_xlabel('Grade', fontsize=13)\n",
    "axes[0].set_ylabel('Price', fontsize=13)\n",
    "axes[0].set_title('Grade vs price', fontsize=16)\n",
    "\n",
    "sns.countplot(ax=axes[1], x='grade', data=df, palette='magma')\n",
    "axes[1].set_xlabel('Grade', fontsize=13)\n",
    "axes[1].set_title(\"Grade's Count\", fontsize=16)\n",
    "plt.subplots_adjust(wspace=0.4, hspace=0.4)"
   ]
  },
  {
   "cell_type": "markdown",
   "id": "a54a8b8d",
   "metadata": {
    "papermill": {
     "duration": null,
     "end_time": null,
     "exception": null,
     "start_time": null,
     "status": "pending"
    },
    "tags": []
   },
   "source": [
    "* Higher the grade of the house higher is it price."
   ]
  },
  {
   "cell_type": "code",
   "execution_count": null,
   "id": "efe21dec",
   "metadata": {
    "execution": {
     "iopub.status.busy": "2022-02-01T18:30:57.609088Z",
     "iopub.status.idle": "2022-02-01T18:30:57.609989Z",
     "shell.execute_reply": "2022-02-01T18:30:57.609733Z",
     "shell.execute_reply.started": "2022-02-01T18:30:57.609703Z"
    },
    "papermill": {
     "duration": null,
     "end_time": null,
     "exception": null,
     "start_time": null,
     "status": "pending"
    },
    "tags": []
   },
   "outputs": [],
   "source": [
    "fig, axes = plt.subplots(nrows=2, ncols=1, figsize=(10, 10))\n",
    "\n",
    "sns.boxplot(ax=axes[0], x='renovated(y/n)', y='price', data=df, palette='magma')\n",
    "axes[0].ticklabel_format(style='plain', axis='y')\n",
    "axes[0].set_xlabel('Renovated', fontsize=13)\n",
    "axes[0].set_ylabel('Price', fontsize=13)\n",
    "axes[0].set_title('Renovation vs price', fontsize=16)\n",
    "\n",
    "sns.countplot(ax=axes[1], x='renovated(y/n)', data=df, palette='magma')\n",
    "axes[1].set_xlabel('Renovated', fontsize=13)\n",
    "axes[1].set_title('Number of house Renovated', fontsize=16)\n",
    "plt.subplots_adjust(wspace=0.4, hspace=0.4)"
   ]
  },
  {
   "cell_type": "markdown",
   "id": "306b3718",
   "metadata": {
    "papermill": {
     "duration": null,
     "end_time": null,
     "exception": null,
     "start_time": null,
     "status": "pending"
    },
    "tags": []
   },
   "source": [
    "* If the house is renovated than it seems it's prices are little bit higher.\n",
    "* Majority of the house in the dataset are not renovated."
   ]
  },
  {
   "cell_type": "code",
   "execution_count": null,
   "id": "f2dedd87",
   "metadata": {
    "execution": {
     "iopub.status.busy": "2022-02-01T18:30:57.611371Z",
     "iopub.status.idle": "2022-02-01T18:30:57.61226Z",
     "shell.execute_reply": "2022-02-01T18:30:57.611999Z",
     "shell.execute_reply.started": "2022-02-01T18:30:57.611972Z"
    },
    "papermill": {
     "duration": null,
     "end_time": null,
     "exception": null,
     "start_time": null,
     "status": "pending"
    },
    "tags": []
   },
   "outputs": [],
   "source": [
    "g = sns.pairplot(df[['price', 'sqft_living', 'sqft_lot', 'sqft_above', 'sqft_living15', 'sqft_lot15']])\n",
    "g.map_upper(sns.scatterplot, color='purple')\n",
    "g.map_lower(sns.scatterplot, color='red')"
   ]
  },
  {
   "cell_type": "code",
   "execution_count": null,
   "id": "661db7ca",
   "metadata": {
    "execution": {
     "iopub.status.busy": "2022-02-01T18:30:57.61359Z",
     "iopub.status.idle": "2022-02-01T18:30:57.614478Z",
     "shell.execute_reply": "2022-02-01T18:30:57.614208Z",
     "shell.execute_reply.started": "2022-02-01T18:30:57.614178Z"
    },
    "papermill": {
     "duration": null,
     "end_time": null,
     "exception": null,
     "start_time": null,
     "status": "pending"
    },
    "tags": []
   },
   "outputs": [],
   "source": [
    "#correlation of feature with respect to target variable\n",
    "corr_matrix = df.corr()\n",
    "corr_matrix['price'].sort_values(ascending=False)"
   ]
  },
  {
   "cell_type": "code",
   "execution_count": null,
   "id": "d310ff4d",
   "metadata": {
    "execution": {
     "iopub.status.busy": "2022-02-01T18:30:57.6157Z",
     "iopub.status.idle": "2022-02-01T18:30:57.616425Z",
     "shell.execute_reply": "2022-02-01T18:30:57.616191Z",
     "shell.execute_reply.started": "2022-02-01T18:30:57.616165Z"
    },
    "papermill": {
     "duration": null,
     "end_time": null,
     "exception": null,
     "start_time": null,
     "status": "pending"
    },
    "tags": []
   },
   "outputs": [],
   "source": [
    "#heatmap\n",
    "matrix = np.triu(corr_matrix)\n",
    "plt.figure(figsize=(15, 12))\n",
    "sns.heatmap(corr_matrix, annot=True, mask=matrix, cmap='magma')"
   ]
  },
  {
   "cell_type": "code",
   "execution_count": null,
   "id": "69c6b8e9",
   "metadata": {
    "execution": {
     "iopub.status.busy": "2022-02-01T18:30:57.618011Z",
     "iopub.status.idle": "2022-02-01T18:30:57.61888Z",
     "shell.execute_reply": "2022-02-01T18:30:57.618631Z",
     "shell.execute_reply.started": "2022-02-01T18:30:57.618604Z"
    },
    "papermill": {
     "duration": null,
     "end_time": null,
     "exception": null,
     "start_time": null,
     "status": "pending"
    },
    "tags": []
   },
   "outputs": [],
   "source": [
    "df.plot(kind=\"scatter\", x=\"long\", y=\"lat\", alpha=0.2, label=\"Price\", figsize=(20,18),\n",
    "             c=\"price\", cmap = 'magma', colorbar=True,\n",
    "             sharex=False)\n",
    "axes[0].ticklabel_format(style='plain', axis='y')\n",
    "plt.legend()"
   ]
  },
  {
   "cell_type": "markdown",
   "id": "9691652c",
   "metadata": {
    "papermill": {
     "duration": null,
     "end_time": null,
     "exception": null,
     "start_time": null,
     "status": "pending"
    },
    "tags": []
   },
   "source": [
    "# Feature Selection"
   ]
  },
  {
   "cell_type": "code",
   "execution_count": null,
   "id": "40bcedfd",
   "metadata": {
    "execution": {
     "iopub.status.busy": "2022-02-01T18:30:57.620144Z",
     "iopub.status.idle": "2022-02-01T18:30:57.62111Z",
     "shell.execute_reply": "2022-02-01T18:30:57.62085Z",
     "shell.execute_reply.started": "2022-02-01T18:30:57.620822Z"
    },
    "papermill": {
     "duration": null,
     "end_time": null,
     "exception": null,
     "start_time": null,
     "status": "pending"
    },
    "tags": []
   },
   "outputs": [],
   "source": [
    "X = df.iloc[:, 1:]\n",
    "y = df.iloc[:, 0]"
   ]
  },
  {
   "cell_type": "code",
   "execution_count": null,
   "id": "fc337073",
   "metadata": {
    "execution": {
     "iopub.status.busy": "2022-02-01T18:30:57.622241Z",
     "iopub.status.idle": "2022-02-01T18:30:57.623133Z",
     "shell.execute_reply": "2022-02-01T18:30:57.622856Z",
     "shell.execute_reply.started": "2022-02-01T18:30:57.622828Z"
    },
    "papermill": {
     "duration": null,
     "end_time": null,
     "exception": null,
     "start_time": null,
     "status": "pending"
    },
    "tags": []
   },
   "outputs": [],
   "source": [
    "#Feature Scaling\n",
    "from sklearn.preprocessing import MinMaxScaler\n",
    "scaler_minmax = MinMaxScaler()\n",
    "X_minmax = scaler_minmax.fit_transform(X)"
   ]
  },
  {
   "cell_type": "markdown",
   "id": "c26b5db5",
   "metadata": {
    "papermill": {
     "duration": null,
     "end_time": null,
     "exception": null,
     "start_time": null,
     "status": "pending"
    },
    "tags": []
   },
   "source": [
    "##### L1 regularized Lasso"
   ]
  },
  {
   "cell_type": "code",
   "execution_count": null,
   "id": "78d9da1e",
   "metadata": {
    "execution": {
     "iopub.status.busy": "2022-02-01T18:30:57.624425Z",
     "iopub.status.idle": "2022-02-01T18:30:57.625271Z",
     "shell.execute_reply": "2022-02-01T18:30:57.62501Z",
     "shell.execute_reply.started": "2022-02-01T18:30:57.624981Z"
    },
    "papermill": {
     "duration": null,
     "end_time": null,
     "exception": null,
     "start_time": null,
     "status": "pending"
    },
    "tags": []
   },
   "outputs": [],
   "source": [
    "from sklearn.linear_model import Lasso\n",
    "lasso = Lasso(alpha=0.4)\n",
    "lasso.fit(X_minmax, y)"
   ]
  },
  {
   "cell_type": "code",
   "execution_count": null,
   "id": "e91eeb29",
   "metadata": {
    "execution": {
     "iopub.status.busy": "2022-02-01T18:30:57.626488Z",
     "iopub.status.idle": "2022-02-01T18:30:57.627364Z",
     "shell.execute_reply": "2022-02-01T18:30:57.627108Z",
     "shell.execute_reply.started": "2022-02-01T18:30:57.627079Z"
    },
    "papermill": {
     "duration": null,
     "end_time": null,
     "exception": null,
     "start_time": null,
     "status": "pending"
    },
    "tags": []
   },
   "outputs": [],
   "source": [
    "lasso.coef_"
   ]
  },
  {
   "cell_type": "code",
   "execution_count": null,
   "id": "6d3028d9",
   "metadata": {
    "execution": {
     "iopub.status.busy": "2022-02-01T18:30:57.628622Z",
     "iopub.status.idle": "2022-02-01T18:30:57.629495Z",
     "shell.execute_reply": "2022-02-01T18:30:57.629222Z",
     "shell.execute_reply.started": "2022-02-01T18:30:57.629194Z"
    },
    "papermill": {
     "duration": null,
     "end_time": null,
     "exception": null,
     "start_time": null,
     "status": "pending"
    },
    "tags": []
   },
   "outputs": [],
   "source": [
    "names = df.columns[1:]"
   ]
  },
  {
   "cell_type": "code",
   "execution_count": null,
   "id": "84e2e924",
   "metadata": {
    "execution": {
     "iopub.status.busy": "2022-02-01T18:30:57.63075Z",
     "iopub.status.idle": "2022-02-01T18:30:57.631498Z",
     "shell.execute_reply": "2022-02-01T18:30:57.631242Z",
     "shell.execute_reply.started": "2022-02-01T18:30:57.631214Z"
    },
    "papermill": {
     "duration": null,
     "end_time": null,
     "exception": null,
     "start_time": null,
     "status": "pending"
    },
    "tags": []
   },
   "outputs": [],
   "source": [
    "sorted(zip(np.abs(lasso.coef_), names), reverse=True)"
   ]
  },
  {
   "cell_type": "markdown",
   "id": "5ebbd31d",
   "metadata": {
    "papermill": {
     "duration": null,
     "end_time": null,
     "exception": null,
     "start_time": null,
     "status": "pending"
    },
    "tags": []
   },
   "source": [
    "##### L2 regularized Ridge"
   ]
  },
  {
   "cell_type": "code",
   "execution_count": null,
   "id": "cb560c5f",
   "metadata": {
    "execution": {
     "iopub.status.busy": "2022-02-01T18:30:57.632924Z",
     "iopub.status.idle": "2022-02-01T18:30:57.633695Z",
     "shell.execute_reply": "2022-02-01T18:30:57.633421Z",
     "shell.execute_reply.started": "2022-02-01T18:30:57.633394Z"
    },
    "papermill": {
     "duration": null,
     "end_time": null,
     "exception": null,
     "start_time": null,
     "status": "pending"
    },
    "tags": []
   },
   "outputs": [],
   "source": [
    "from sklearn.linear_model import Ridge\n",
    "ridge = Ridge(alpha=6)\n",
    "ridge.fit(X_minmax, y)"
   ]
  },
  {
   "cell_type": "code",
   "execution_count": null,
   "id": "24daede9",
   "metadata": {
    "execution": {
     "iopub.status.busy": "2022-02-01T18:30:57.635078Z",
     "iopub.status.idle": "2022-02-01T18:30:57.635995Z",
     "shell.execute_reply": "2022-02-01T18:30:57.63568Z",
     "shell.execute_reply.started": "2022-02-01T18:30:57.635653Z"
    },
    "papermill": {
     "duration": null,
     "end_time": null,
     "exception": null,
     "start_time": null,
     "status": "pending"
    },
    "tags": []
   },
   "outputs": [],
   "source": [
    "ridge.coef_"
   ]
  },
  {
   "cell_type": "code",
   "execution_count": null,
   "id": "f4e33e43",
   "metadata": {
    "execution": {
     "iopub.status.busy": "2022-02-01T18:30:57.637225Z",
     "iopub.status.idle": "2022-02-01T18:30:57.637907Z",
     "shell.execute_reply": "2022-02-01T18:30:57.63759Z",
     "shell.execute_reply.started": "2022-02-01T18:30:57.637562Z"
    },
    "papermill": {
     "duration": null,
     "end_time": null,
     "exception": null,
     "start_time": null,
     "status": "pending"
    },
    "tags": []
   },
   "outputs": [],
   "source": [
    "sorted(zip(np.abs(ridge.coef_), names), reverse=True)"
   ]
  },
  {
   "cell_type": "markdown",
   "id": "7aa1c8a8",
   "metadata": {
    "papermill": {
     "duration": null,
     "end_time": null,
     "exception": null,
     "start_time": null,
     "status": "pending"
    },
    "tags": []
   },
   "source": [
    "##### Recursive Feature Elimination"
   ]
  },
  {
   "cell_type": "code",
   "execution_count": null,
   "id": "2662259b",
   "metadata": {
    "execution": {
     "iopub.status.busy": "2022-02-01T18:30:57.639427Z",
     "iopub.status.idle": "2022-02-01T18:30:57.640342Z",
     "shell.execute_reply": "2022-02-01T18:30:57.640077Z",
     "shell.execute_reply.started": "2022-02-01T18:30:57.640049Z"
    },
    "papermill": {
     "duration": null,
     "end_time": null,
     "exception": null,
     "start_time": null,
     "status": "pending"
    },
    "tags": []
   },
   "outputs": [],
   "source": [
    "from sklearn.feature_selection import RFE\n",
    "from sklearn.linear_model import LinearRegression"
   ]
  },
  {
   "cell_type": "code",
   "execution_count": null,
   "id": "5b1d44e8",
   "metadata": {
    "execution": {
     "iopub.status.busy": "2022-02-01T18:30:57.641506Z",
     "iopub.status.idle": "2022-02-01T18:30:57.642347Z",
     "shell.execute_reply": "2022-02-01T18:30:57.642095Z",
     "shell.execute_reply.started": "2022-02-01T18:30:57.642067Z"
    },
    "papermill": {
     "duration": null,
     "end_time": null,
     "exception": null,
     "start_time": null,
     "status": "pending"
    },
    "tags": []
   },
   "outputs": [],
   "source": [
    "lr = LinearRegression()\n",
    "rfe = RFE(lr, n_features_to_select=1)\n",
    "rfe.fit(X_minmax, y)"
   ]
  },
  {
   "cell_type": "code",
   "execution_count": null,
   "id": "58b826f6",
   "metadata": {
    "execution": {
     "iopub.status.busy": "2022-02-01T18:30:57.643563Z",
     "iopub.status.idle": "2022-02-01T18:30:57.644315Z",
     "shell.execute_reply": "2022-02-01T18:30:57.644123Z",
     "shell.execute_reply.started": "2022-02-01T18:30:57.644099Z"
    },
    "papermill": {
     "duration": null,
     "end_time": null,
     "exception": null,
     "start_time": null,
     "status": "pending"
    },
    "tags": []
   },
   "outputs": [],
   "source": [
    "rfe.ranking_"
   ]
  },
  {
   "cell_type": "code",
   "execution_count": null,
   "id": "e597038b",
   "metadata": {
    "execution": {
     "iopub.status.busy": "2022-02-01T18:30:57.645533Z",
     "iopub.status.idle": "2022-02-01T18:30:57.645873Z",
     "shell.execute_reply": "2022-02-01T18:30:57.645723Z",
     "shell.execute_reply.started": "2022-02-01T18:30:57.645706Z"
    },
    "papermill": {
     "duration": null,
     "end_time": null,
     "exception": null,
     "start_time": null,
     "status": "pending"
    },
    "tags": []
   },
   "outputs": [],
   "source": [
    "sorted(zip(rfe.ranking_, names), reverse=False)"
   ]
  },
  {
   "cell_type": "markdown",
   "id": "cf7bd32c",
   "metadata": {
    "papermill": {
     "duration": null,
     "end_time": null,
     "exception": null,
     "start_time": null,
     "status": "pending"
    },
    "tags": []
   },
   "source": [
    "##### Random Forest feature selection"
   ]
  },
  {
   "cell_type": "code",
   "execution_count": null,
   "id": "9adf932c",
   "metadata": {
    "execution": {
     "iopub.status.busy": "2022-02-01T18:30:57.647004Z",
     "iopub.status.idle": "2022-02-01T18:30:57.647328Z",
     "shell.execute_reply": "2022-02-01T18:30:57.64718Z",
     "shell.execute_reply.started": "2022-02-01T18:30:57.647157Z"
    },
    "papermill": {
     "duration": null,
     "end_time": null,
     "exception": null,
     "start_time": null,
     "status": "pending"
    },
    "tags": []
   },
   "outputs": [],
   "source": [
    "from sklearn.ensemble import RandomForestRegressor\n",
    "rf = RandomForestRegressor()\n",
    "rf.fit(X_minmax, y)"
   ]
  },
  {
   "cell_type": "code",
   "execution_count": null,
   "id": "720a795c",
   "metadata": {
    "execution": {
     "iopub.status.busy": "2022-02-01T18:30:57.648808Z",
     "iopub.status.idle": "2022-02-01T18:30:57.649539Z",
     "shell.execute_reply": "2022-02-01T18:30:57.649355Z",
     "shell.execute_reply.started": "2022-02-01T18:30:57.649335Z"
    },
    "papermill": {
     "duration": null,
     "end_time": null,
     "exception": null,
     "start_time": null,
     "status": "pending"
    },
    "tags": []
   },
   "outputs": [],
   "source": [
    "rf.feature_importances_"
   ]
  },
  {
   "cell_type": "code",
   "execution_count": null,
   "id": "cb6477d1",
   "metadata": {
    "execution": {
     "iopub.status.busy": "2022-02-01T18:30:57.650713Z",
     "iopub.status.idle": "2022-02-01T18:30:57.651024Z",
     "shell.execute_reply": "2022-02-01T18:30:57.650877Z",
     "shell.execute_reply.started": "2022-02-01T18:30:57.650861Z"
    },
    "papermill": {
     "duration": null,
     "end_time": null,
     "exception": null,
     "start_time": null,
     "status": "pending"
    },
    "tags": []
   },
   "outputs": [],
   "source": [
    "sorted(zip(rf.feature_importances_, names), reverse=True)"
   ]
  },
  {
   "cell_type": "markdown",
   "id": "1bbbf879",
   "metadata": {
    "papermill": {
     "duration": null,
     "end_time": null,
     "exception": null,
     "start_time": null,
     "status": "pending"
    },
    "tags": []
   },
   "source": [
    "we can see from different featue selection alogrithms we ran, column *'floors'* and *'renovated(y/n)'* are the least important features. We can drop this columns while building models."
   ]
  },
  {
   "cell_type": "markdown",
   "id": "0af451e6",
   "metadata": {
    "papermill": {
     "duration": null,
     "end_time": null,
     "exception": null,
     "start_time": null,
     "status": "pending"
    },
    "tags": []
   },
   "source": [
    "# Model Building"
   ]
  },
  {
   "cell_type": "code",
   "execution_count": null,
   "id": "82519203",
   "metadata": {
    "execution": {
     "iopub.status.busy": "2022-02-01T18:30:57.65183Z",
     "iopub.status.idle": "2022-02-01T18:30:57.652127Z",
     "shell.execute_reply": "2022-02-01T18:30:57.651981Z",
     "shell.execute_reply.started": "2022-02-01T18:30:57.651966Z"
    },
    "papermill": {
     "duration": null,
     "end_time": null,
     "exception": null,
     "start_time": null,
     "status": "pending"
    },
    "tags": []
   },
   "outputs": [],
   "source": [
    "#dropping floors and renovated(y/n)\n",
    "df_copy = df.copy()\n",
    "df_copy = df_copy.drop(['floors', 'renovated(y/n)'], axis = 1)"
   ]
  },
  {
   "cell_type": "code",
   "execution_count": null,
   "id": "48ace20d",
   "metadata": {
    "execution": {
     "iopub.status.busy": "2022-02-01T18:30:57.654199Z",
     "iopub.status.idle": "2022-02-01T18:30:57.654498Z",
     "shell.execute_reply": "2022-02-01T18:30:57.65436Z",
     "shell.execute_reply.started": "2022-02-01T18:30:57.654345Z"
    },
    "papermill": {
     "duration": null,
     "end_time": null,
     "exception": null,
     "start_time": null,
     "status": "pending"
    },
    "tags": []
   },
   "outputs": [],
   "source": [
    "df_copy.shape"
   ]
  },
  {
   "cell_type": "code",
   "execution_count": null,
   "id": "89b1deac",
   "metadata": {
    "execution": {
     "iopub.status.busy": "2022-02-01T18:30:57.655749Z",
     "iopub.status.idle": "2022-02-01T18:30:57.656049Z",
     "shell.execute_reply": "2022-02-01T18:30:57.655908Z",
     "shell.execute_reply.started": "2022-02-01T18:30:57.655893Z"
    },
    "papermill": {
     "duration": null,
     "end_time": null,
     "exception": null,
     "start_time": null,
     "status": "pending"
    },
    "tags": []
   },
   "outputs": [],
   "source": [
    "df_copy.head()"
   ]
  },
  {
   "cell_type": "code",
   "execution_count": null,
   "id": "0d01198d",
   "metadata": {
    "execution": {
     "iopub.status.busy": "2022-02-01T18:30:57.656796Z",
     "iopub.status.idle": "2022-02-01T18:30:57.6571Z",
     "shell.execute_reply": "2022-02-01T18:30:57.656944Z",
     "shell.execute_reply.started": "2022-02-01T18:30:57.656929Z"
    },
    "papermill": {
     "duration": null,
     "end_time": null,
     "exception": null,
     "start_time": null,
     "status": "pending"
    },
    "tags": []
   },
   "outputs": [],
   "source": [
    "X = df_copy.iloc[:, 1:]\n",
    "y = df_copy.iloc[:, 0]"
   ]
  },
  {
   "cell_type": "code",
   "execution_count": null,
   "id": "e4ba3c58",
   "metadata": {
    "execution": {
     "iopub.status.busy": "2022-02-01T18:30:57.658319Z",
     "iopub.status.idle": "2022-02-01T18:30:57.65865Z",
     "shell.execute_reply": "2022-02-01T18:30:57.658471Z",
     "shell.execute_reply.started": "2022-02-01T18:30:57.658456Z"
    },
    "papermill": {
     "duration": null,
     "end_time": null,
     "exception": null,
     "start_time": null,
     "status": "pending"
    },
    "tags": []
   },
   "outputs": [],
   "source": [
    "#Splitting the dataset into training set and test set\n",
    "from sklearn.model_selection import train_test_split\n",
    "X_train, X_test, y_train, y_test = train_test_split(X, y, test_size=0.20, random_state=42)"
   ]
  },
  {
   "cell_type": "code",
   "execution_count": null,
   "id": "2c3ad62d",
   "metadata": {
    "execution": {
     "iopub.status.busy": "2022-02-01T18:30:57.660568Z",
     "iopub.status.idle": "2022-02-01T18:30:57.661037Z",
     "shell.execute_reply": "2022-02-01T18:30:57.660803Z",
     "shell.execute_reply.started": "2022-02-01T18:30:57.660778Z"
    },
    "papermill": {
     "duration": null,
     "end_time": null,
     "exception": null,
     "start_time": null,
     "status": "pending"
    },
    "tags": []
   },
   "outputs": [],
   "source": [
    "#Feature Scaling\n",
    "X_train = scaler_minmax.fit_transform(X_train)\n",
    "X_test = scaler_minmax.transform(X_test)"
   ]
  },
  {
   "cell_type": "markdown",
   "id": "862a6bd7",
   "metadata": {
    "papermill": {
     "duration": null,
     "end_time": null,
     "exception": null,
     "start_time": null,
     "status": "pending"
    },
    "tags": []
   },
   "source": [
    "##### Linear Regression"
   ]
  },
  {
   "cell_type": "code",
   "execution_count": null,
   "id": "3a91f772",
   "metadata": {
    "execution": {
     "iopub.status.busy": "2022-02-01T18:30:57.662219Z",
     "iopub.status.idle": "2022-02-01T18:30:57.662702Z",
     "shell.execute_reply": "2022-02-01T18:30:57.66245Z",
     "shell.execute_reply.started": "2022-02-01T18:30:57.662425Z"
    },
    "papermill": {
     "duration": null,
     "end_time": null,
     "exception": null,
     "start_time": null,
     "status": "pending"
    },
    "tags": []
   },
   "outputs": [],
   "source": [
    "from sklearn.linear_model import LinearRegression\n",
    "lin_reg = LinearRegression()\n",
    "lin_reg.fit(X_train, y_train)"
   ]
  },
  {
   "cell_type": "code",
   "execution_count": null,
   "id": "31240c7b",
   "metadata": {
    "execution": {
     "iopub.status.busy": "2022-02-01T18:30:57.664483Z",
     "iopub.status.idle": "2022-02-01T18:30:57.665249Z",
     "shell.execute_reply": "2022-02-01T18:30:57.665035Z",
     "shell.execute_reply.started": "2022-02-01T18:30:57.665006Z"
    },
    "papermill": {
     "duration": null,
     "end_time": null,
     "exception": null,
     "start_time": null,
     "status": "pending"
    },
    "tags": []
   },
   "outputs": [],
   "source": [
    "y_pred_lin = lin_reg.predict(X_test)"
   ]
  },
  {
   "cell_type": "code",
   "execution_count": null,
   "id": "ded9c80d",
   "metadata": {
    "execution": {
     "iopub.status.busy": "2022-02-01T18:30:57.666171Z",
     "iopub.status.idle": "2022-02-01T18:30:57.666637Z",
     "shell.execute_reply": "2022-02-01T18:30:57.666427Z",
     "shell.execute_reply.started": "2022-02-01T18:30:57.666411Z"
    },
    "papermill": {
     "duration": null,
     "end_time": null,
     "exception": null,
     "start_time": null,
     "status": "pending"
    },
    "tags": []
   },
   "outputs": [],
   "source": [
    "from sklearn.metrics import mean_squared_error\n",
    "from sklearn.metrics import r2_score"
   ]
  },
  {
   "cell_type": "code",
   "execution_count": null,
   "id": "2b90f18e",
   "metadata": {
    "execution": {
     "iopub.status.busy": "2022-02-01T18:30:57.667365Z",
     "iopub.status.idle": "2022-02-01T18:30:57.668166Z",
     "shell.execute_reply": "2022-02-01T18:30:57.667985Z",
     "shell.execute_reply.started": "2022-02-01T18:30:57.66796Z"
    },
    "papermill": {
     "duration": null,
     "end_time": null,
     "exception": null,
     "start_time": null,
     "status": "pending"
    },
    "tags": []
   },
   "outputs": [],
   "source": [
    "lin_rmse = (mean_squared_error(y_test, y_pred_lin))\n",
    "lin_rmse = np.sqrt(lin_rmse)\n",
    "lin_rmse"
   ]
  },
  {
   "cell_type": "code",
   "execution_count": null,
   "id": "e75f9d95",
   "metadata": {
    "execution": {
     "iopub.status.busy": "2022-02-01T18:30:57.668899Z",
     "iopub.status.idle": "2022-02-01T18:30:57.669614Z",
     "shell.execute_reply": "2022-02-01T18:30:57.669395Z",
     "shell.execute_reply.started": "2022-02-01T18:30:57.669372Z"
    },
    "papermill": {
     "duration": null,
     "end_time": null,
     "exception": null,
     "start_time": null,
     "status": "pending"
    },
    "tags": []
   },
   "outputs": [],
   "source": [
    "r2_score(y_test, y_pred_lin)"
   ]
  },
  {
   "cell_type": "markdown",
   "id": "271b268f",
   "metadata": {
    "papermill": {
     "duration": null,
     "end_time": null,
     "exception": null,
     "start_time": null,
     "status": "pending"
    },
    "tags": []
   },
   "source": [
    "##### Lasso Regression"
   ]
  },
  {
   "cell_type": "code",
   "execution_count": null,
   "id": "a1275dfc",
   "metadata": {
    "execution": {
     "iopub.status.busy": "2022-02-01T18:30:57.670709Z",
     "iopub.status.idle": "2022-02-01T18:30:57.671026Z",
     "shell.execute_reply": "2022-02-01T18:30:57.670879Z",
     "shell.execute_reply.started": "2022-02-01T18:30:57.670858Z"
    },
    "papermill": {
     "duration": null,
     "end_time": null,
     "exception": null,
     "start_time": null,
     "status": "pending"
    },
    "tags": []
   },
   "outputs": [],
   "source": [
    "from sklearn.linear_model import Lasso"
   ]
  },
  {
   "cell_type": "code",
   "execution_count": null,
   "id": "34065e46",
   "metadata": {
    "execution": {
     "iopub.status.busy": "2022-02-01T18:30:57.672364Z",
     "iopub.status.idle": "2022-02-01T18:30:57.67306Z",
     "shell.execute_reply": "2022-02-01T18:30:57.672894Z",
     "shell.execute_reply.started": "2022-02-01T18:30:57.672871Z"
    },
    "papermill": {
     "duration": null,
     "end_time": null,
     "exception": null,
     "start_time": null,
     "status": "pending"
    },
    "tags": []
   },
   "outputs": [],
   "source": [
    "lasso_reg = Lasso(alpha=0.6)\n",
    "lasso_reg.fit(X_train, y_train)"
   ]
  },
  {
   "cell_type": "code",
   "execution_count": null,
   "id": "26783e88",
   "metadata": {
    "execution": {
     "iopub.status.busy": "2022-02-01T18:30:57.674143Z",
     "iopub.status.idle": "2022-02-01T18:30:57.674763Z",
     "shell.execute_reply": "2022-02-01T18:30:57.674589Z",
     "shell.execute_reply.started": "2022-02-01T18:30:57.67456Z"
    },
    "papermill": {
     "duration": null,
     "end_time": null,
     "exception": null,
     "start_time": null,
     "status": "pending"
    },
    "tags": []
   },
   "outputs": [],
   "source": [
    "y_pred_lasso = lasso_reg.predict(X_test)"
   ]
  },
  {
   "cell_type": "code",
   "execution_count": null,
   "id": "b4b44b7a",
   "metadata": {
    "execution": {
     "iopub.status.busy": "2022-02-01T18:30:57.675837Z",
     "iopub.status.idle": "2022-02-01T18:30:57.676243Z",
     "shell.execute_reply": "2022-02-01T18:30:57.676097Z",
     "shell.execute_reply.started": "2022-02-01T18:30:57.67608Z"
    },
    "papermill": {
     "duration": null,
     "end_time": null,
     "exception": null,
     "start_time": null,
     "status": "pending"
    },
    "tags": []
   },
   "outputs": [],
   "source": [
    "lasso_rmse = (mean_squared_error(y_test, y_pred_lasso))\n",
    "lasso_rmse = np.sqrt(lasso_rmse)\n",
    "lasso_rmse"
   ]
  },
  {
   "cell_type": "code",
   "execution_count": null,
   "id": "e18cf4e4",
   "metadata": {
    "execution": {
     "iopub.status.busy": "2022-02-01T18:30:57.677028Z",
     "iopub.status.idle": "2022-02-01T18:30:57.677418Z",
     "shell.execute_reply": "2022-02-01T18:30:57.677279Z",
     "shell.execute_reply.started": "2022-02-01T18:30:57.677263Z"
    },
    "papermill": {
     "duration": null,
     "end_time": null,
     "exception": null,
     "start_time": null,
     "status": "pending"
    },
    "tags": []
   },
   "outputs": [],
   "source": [
    "r2_score(y_test, y_pred_lasso)"
   ]
  },
  {
   "cell_type": "markdown",
   "id": "8387f7ab",
   "metadata": {
    "papermill": {
     "duration": null,
     "end_time": null,
     "exception": null,
     "start_time": null,
     "status": "pending"
    },
    "tags": []
   },
   "source": [
    "##### Random Forest Regression"
   ]
  },
  {
   "cell_type": "code",
   "execution_count": null,
   "id": "3725947d",
   "metadata": {
    "execution": {
     "iopub.status.busy": "2022-02-01T18:30:57.678206Z",
     "iopub.status.idle": "2022-02-01T18:30:57.678618Z",
     "shell.execute_reply": "2022-02-01T18:30:57.67846Z",
     "shell.execute_reply.started": "2022-02-01T18:30:57.678444Z"
    },
    "papermill": {
     "duration": null,
     "end_time": null,
     "exception": null,
     "start_time": null,
     "status": "pending"
    },
    "tags": []
   },
   "outputs": [],
   "source": [
    "from sklearn.ensemble import RandomForestRegressor"
   ]
  },
  {
   "cell_type": "code",
   "execution_count": null,
   "id": "e3c82c49",
   "metadata": {
    "execution": {
     "iopub.status.busy": "2022-02-01T18:30:57.679363Z",
     "iopub.status.idle": "2022-02-01T18:30:57.679884Z",
     "shell.execute_reply": "2022-02-01T18:30:57.679678Z",
     "shell.execute_reply.started": "2022-02-01T18:30:57.679649Z"
    },
    "papermill": {
     "duration": null,
     "end_time": null,
     "exception": null,
     "start_time": null,
     "status": "pending"
    },
    "tags": []
   },
   "outputs": [],
   "source": [
    "rf_reg = RandomForestRegressor()\n",
    "rf_reg.fit(X_train, y_train)"
   ]
  },
  {
   "cell_type": "code",
   "execution_count": null,
   "id": "483fe83b",
   "metadata": {
    "execution": {
     "iopub.status.busy": "2022-02-01T18:30:57.68086Z",
     "iopub.status.idle": "2022-02-01T18:30:57.681196Z",
     "shell.execute_reply": "2022-02-01T18:30:57.681037Z",
     "shell.execute_reply.started": "2022-02-01T18:30:57.681015Z"
    },
    "papermill": {
     "duration": null,
     "end_time": null,
     "exception": null,
     "start_time": null,
     "status": "pending"
    },
    "tags": []
   },
   "outputs": [],
   "source": [
    "y_pred_rf = rf_reg.predict(X_test)"
   ]
  },
  {
   "cell_type": "code",
   "execution_count": null,
   "id": "12810e6a",
   "metadata": {
    "execution": {
     "iopub.status.busy": "2022-02-01T18:30:57.682402Z",
     "iopub.status.idle": "2022-02-01T18:30:57.682762Z",
     "shell.execute_reply": "2022-02-01T18:30:57.682606Z",
     "shell.execute_reply.started": "2022-02-01T18:30:57.682587Z"
    },
    "papermill": {
     "duration": null,
     "end_time": null,
     "exception": null,
     "start_time": null,
     "status": "pending"
    },
    "tags": []
   },
   "outputs": [],
   "source": [
    "rf_rmse = (mean_squared_error(y_test, y_pred_rf))\n",
    "rf_rmse = np.sqrt(rf_rmse)\n",
    "rf_rmse"
   ]
  },
  {
   "cell_type": "code",
   "execution_count": null,
   "id": "b1377f95",
   "metadata": {
    "execution": {
     "iopub.status.busy": "2022-02-01T18:30:57.684086Z",
     "iopub.status.idle": "2022-02-01T18:30:57.684718Z",
     "shell.execute_reply": "2022-02-01T18:30:57.684516Z",
     "shell.execute_reply.started": "2022-02-01T18:30:57.684495Z"
    },
    "papermill": {
     "duration": null,
     "end_time": null,
     "exception": null,
     "start_time": null,
     "status": "pending"
    },
    "tags": []
   },
   "outputs": [],
   "source": [
    "r2_score(y_test, y_pred_rf)"
   ]
  },
  {
   "cell_type": "markdown",
   "id": "a610c4ea",
   "metadata": {
    "papermill": {
     "duration": null,
     "end_time": null,
     "exception": null,
     "start_time": null,
     "status": "pending"
    },
    "tags": []
   },
   "source": [
    "##### Polynomial Regression"
   ]
  },
  {
   "cell_type": "code",
   "execution_count": null,
   "id": "1c39d68f",
   "metadata": {
    "execution": {
     "iopub.status.busy": "2022-02-01T18:30:57.685659Z",
     "iopub.status.idle": "2022-02-01T18:30:57.68616Z",
     "shell.execute_reply": "2022-02-01T18:30:57.685991Z",
     "shell.execute_reply.started": "2022-02-01T18:30:57.685972Z"
    },
    "papermill": {
     "duration": null,
     "end_time": null,
     "exception": null,
     "start_time": null,
     "status": "pending"
    },
    "tags": []
   },
   "outputs": [],
   "source": [
    "from sklearn.preprocessing import PolynomialFeatures\n",
    "poly_features = PolynomialFeatures(degree=2)\n",
    "X_train_poly = poly_features.fit_transform(X_train)\n",
    "X_test_poly = poly_features.transform(X_test)"
   ]
  },
  {
   "cell_type": "code",
   "execution_count": null,
   "id": "304e3744",
   "metadata": {
    "execution": {
     "iopub.status.busy": "2022-02-01T18:30:57.687191Z",
     "iopub.status.idle": "2022-02-01T18:30:57.687851Z",
     "shell.execute_reply": "2022-02-01T18:30:57.68766Z",
     "shell.execute_reply.started": "2022-02-01T18:30:57.687633Z"
    },
    "papermill": {
     "duration": null,
     "end_time": null,
     "exception": null,
     "start_time": null,
     "status": "pending"
    },
    "tags": []
   },
   "outputs": [],
   "source": [
    "lin_reg_poly = LinearRegression()\n",
    "lin_reg_poly.fit(X_train_poly, y_train)"
   ]
  },
  {
   "cell_type": "code",
   "execution_count": null,
   "id": "f2d6ce0c",
   "metadata": {
    "execution": {
     "iopub.status.busy": "2022-02-01T18:30:57.68879Z",
     "iopub.status.idle": "2022-02-01T18:30:57.689309Z",
     "shell.execute_reply": "2022-02-01T18:30:57.689142Z",
     "shell.execute_reply.started": "2022-02-01T18:30:57.689123Z"
    },
    "papermill": {
     "duration": null,
     "end_time": null,
     "exception": null,
     "start_time": null,
     "status": "pending"
    },
    "tags": []
   },
   "outputs": [],
   "source": [
    "y_pred_poly = lin_reg_poly.predict(X_test_poly)"
   ]
  },
  {
   "cell_type": "code",
   "execution_count": null,
   "id": "c1b83b5f",
   "metadata": {
    "execution": {
     "iopub.status.busy": "2022-02-01T18:30:57.690373Z",
     "iopub.status.idle": "2022-02-01T18:30:57.690884Z",
     "shell.execute_reply": "2022-02-01T18:30:57.690713Z",
     "shell.execute_reply.started": "2022-02-01T18:30:57.690692Z"
    },
    "papermill": {
     "duration": null,
     "end_time": null,
     "exception": null,
     "start_time": null,
     "status": "pending"
    },
    "tags": []
   },
   "outputs": [],
   "source": [
    "poly_rmse = (mean_squared_error(y_test, y_pred_poly))\n",
    "poly_rmse = np.sqrt(poly_rmse)\n",
    "poly_rmse"
   ]
  },
  {
   "cell_type": "code",
   "execution_count": null,
   "id": "6c271aab",
   "metadata": {
    "execution": {
     "iopub.status.busy": "2022-02-01T18:30:57.691645Z",
     "iopub.status.idle": "2022-02-01T18:30:57.6922Z",
     "shell.execute_reply": "2022-02-01T18:30:57.692028Z",
     "shell.execute_reply.started": "2022-02-01T18:30:57.692009Z"
    },
    "papermill": {
     "duration": null,
     "end_time": null,
     "exception": null,
     "start_time": null,
     "status": "pending"
    },
    "tags": []
   },
   "outputs": [],
   "source": [
    "r2_score(y_test, y_pred_poly)"
   ]
  },
  {
   "cell_type": "markdown",
   "id": "b5d1caf3",
   "metadata": {
    "papermill": {
     "duration": null,
     "end_time": null,
     "exception": null,
     "start_time": null,
     "status": "pending"
    },
    "tags": []
   },
   "source": [
    "##### XGboost Regression"
   ]
  },
  {
   "cell_type": "code",
   "execution_count": null,
   "id": "778654eb",
   "metadata": {
    "execution": {
     "iopub.status.busy": "2022-02-01T18:30:57.692959Z",
     "iopub.status.idle": "2022-02-01T18:30:57.69362Z",
     "shell.execute_reply": "2022-02-01T18:30:57.693432Z",
     "shell.execute_reply.started": "2022-02-01T18:30:57.693414Z"
    },
    "papermill": {
     "duration": null,
     "end_time": null,
     "exception": null,
     "start_time": null,
     "status": "pending"
    },
    "tags": []
   },
   "outputs": [],
   "source": [
    "from xgboost import XGBRegressor"
   ]
  },
  {
   "cell_type": "code",
   "execution_count": null,
   "id": "7e2abbe3",
   "metadata": {
    "execution": {
     "iopub.status.busy": "2022-02-01T18:30:57.694381Z",
     "iopub.status.idle": "2022-02-01T18:30:57.694826Z",
     "shell.execute_reply": "2022-02-01T18:30:57.694648Z",
     "shell.execute_reply.started": "2022-02-01T18:30:57.694624Z"
    },
    "papermill": {
     "duration": null,
     "end_time": null,
     "exception": null,
     "start_time": null,
     "status": "pending"
    },
    "tags": []
   },
   "outputs": [],
   "source": [
    "xgb_reg = XGBRegressor()\n",
    "xgb_reg.fit(X_train, y_train)"
   ]
  },
  {
   "cell_type": "code",
   "execution_count": null,
   "id": "7f89e1dc",
   "metadata": {
    "execution": {
     "iopub.status.busy": "2022-02-01T18:30:57.69573Z",
     "iopub.status.idle": "2022-02-01T18:30:57.696043Z",
     "shell.execute_reply": "2022-02-01T18:30:57.695891Z",
     "shell.execute_reply.started": "2022-02-01T18:30:57.695869Z"
    },
    "papermill": {
     "duration": null,
     "end_time": null,
     "exception": null,
     "start_time": null,
     "status": "pending"
    },
    "tags": []
   },
   "outputs": [],
   "source": [
    "y_pred_xgb = xgb_reg.predict(X_test)"
   ]
  },
  {
   "cell_type": "code",
   "execution_count": null,
   "id": "c2b0acff",
   "metadata": {
    "execution": {
     "iopub.status.busy": "2022-02-01T18:30:57.697174Z",
     "iopub.status.idle": "2022-02-01T18:30:57.697488Z",
     "shell.execute_reply": "2022-02-01T18:30:57.697337Z",
     "shell.execute_reply.started": "2022-02-01T18:30:57.697315Z"
    },
    "papermill": {
     "duration": null,
     "end_time": null,
     "exception": null,
     "start_time": null,
     "status": "pending"
    },
    "tags": []
   },
   "outputs": [],
   "source": [
    "xgb_rmse = (mean_squared_error(y_test, y_pred_xgb))\n",
    "xgb_rmse = np.sqrt(xgb_rmse)\n",
    "xgb_rmse"
   ]
  },
  {
   "cell_type": "code",
   "execution_count": null,
   "id": "3646a17d",
   "metadata": {
    "execution": {
     "iopub.status.busy": "2022-02-01T18:30:57.699095Z",
     "iopub.status.idle": "2022-02-01T18:30:57.699419Z",
     "shell.execute_reply": "2022-02-01T18:30:57.699271Z",
     "shell.execute_reply.started": "2022-02-01T18:30:57.69925Z"
    },
    "papermill": {
     "duration": null,
     "end_time": null,
     "exception": null,
     "start_time": null,
     "status": "pending"
    },
    "tags": []
   },
   "outputs": [],
   "source": [
    "r2_score(y_test, y_pred_xgb)"
   ]
  },
  {
   "cell_type": "code",
   "execution_count": null,
   "id": "901e81bb",
   "metadata": {
    "execution": {
     "iopub.status.busy": "2022-02-01T18:30:57.700623Z",
     "iopub.status.idle": "2022-02-01T18:30:57.700946Z",
     "shell.execute_reply": "2022-02-01T18:30:57.700796Z",
     "shell.execute_reply.started": "2022-02-01T18:30:57.700773Z"
    },
    "papermill": {
     "duration": null,
     "end_time": null,
     "exception": null,
     "start_time": null,
     "status": "pending"
    },
    "tags": []
   },
   "outputs": [],
   "source": [
    "results = pd.DataFrame(columns =['RMSE', 'R2_score'], \n",
    "                       index = ['Linear Regression', 'Lasso Regression', 'Random Forest Regression', 'Polynomial Regression', 'Xgboost Regression'])"
   ]
  },
  {
   "cell_type": "code",
   "execution_count": null,
   "id": "b058bf34",
   "metadata": {
    "execution": {
     "iopub.status.busy": "2022-02-01T18:30:57.70246Z",
     "iopub.status.idle": "2022-02-01T18:30:57.702946Z",
     "shell.execute_reply": "2022-02-01T18:30:57.702772Z",
     "shell.execute_reply.started": "2022-02-01T18:30:57.70275Z"
    },
    "papermill": {
     "duration": null,
     "end_time": null,
     "exception": null,
     "start_time": null,
     "status": "pending"
    },
    "tags": []
   },
   "outputs": [],
   "source": [
    "results.loc['Linear Regression'] = [round(lin_rmse, 2), r2_score(y_test, y_pred_lin)]\n",
    "results.loc['Lasso Regression'] = [round(lasso_rmse, 2), r2_score(y_test, y_pred_lasso)]\n",
    "results.loc['Random Forest Regression'] = [round(rf_rmse, 2), r2_score(y_test, y_pred_rf)]\n",
    "results.loc['Polynomial Regression'] = [round(poly_rmse, 2), r2_score(y_test, y_pred_poly)]\n",
    "results.loc['Xgboost Regression'] = [round(xgb_rmse, 2), r2_score(y_test, y_pred_xgb)]"
   ]
  },
  {
   "cell_type": "code",
   "execution_count": null,
   "id": "8bdbcff2",
   "metadata": {
    "execution": {
     "iopub.status.busy": "2022-02-01T18:30:57.704258Z",
     "iopub.status.idle": "2022-02-01T18:30:57.704604Z",
     "shell.execute_reply": "2022-02-01T18:30:57.704432Z",
     "shell.execute_reply.started": "2022-02-01T18:30:57.704411Z"
    },
    "papermill": {
     "duration": null,
     "end_time": null,
     "exception": null,
     "start_time": null,
     "status": "pending"
    },
    "tags": []
   },
   "outputs": [],
   "source": [
    "results"
   ]
  },
  {
   "cell_type": "markdown",
   "id": "2f51cf7e",
   "metadata": {
    "papermill": {
     "duration": null,
     "end_time": null,
     "exception": null,
     "start_time": null,
     "status": "pending"
    },
    "tags": []
   },
   "source": [
    "**XGboost performs the best among the trained models with Random Forest just behind**"
   ]
  },
  {
   "cell_type": "markdown",
   "id": "6da19617",
   "metadata": {
    "papermill": {
     "duration": null,
     "end_time": null,
     "exception": null,
     "start_time": null,
     "status": "pending"
    },
    "tags": []
   },
   "source": [
    "##### Thanks for reading\n",
    "\n",
    "##### Your comments and feedback will be appreciated\n",
    "\n",
    "##### Do not forget to upvote.\n",
    "\n",
    "##### All the best in your data journey 👍"
   ]
  }
 ],
 "metadata": {
  "kernelspec": {
   "display_name": "Python 3",
   "language": "python",
   "name": "python3"
  },
  "language_info": {
   "codemirror_mode": {
    "name": "ipython",
    "version": 3
   },
   "file_extension": ".py",
   "mimetype": "text/x-python",
   "name": "python",
   "nbconvert_exporter": "python",
   "pygments_lexer": "ipython3",
   "version": "3.7.12"
  },
  "papermill": {
   "default_parameters": {},
   "duration": 16.767664,
   "end_time": "2022-02-05T20:37:52.696246",
   "environment_variables": {},
   "exception": true,
   "input_path": "__notebook__.ipynb",
   "output_path": "__notebook__.ipynb",
   "parameters": {},
   "start_time": "2022-02-05T20:37:35.928582",
   "version": "2.3.3"
  }
 },
 "nbformat": 4,
 "nbformat_minor": 5
}
